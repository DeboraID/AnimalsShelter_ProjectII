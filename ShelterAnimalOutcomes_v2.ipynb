{
  "nbformat": 4,
  "nbformat_minor": 0,
  "metadata": {
    "colab": {
      "name": "ShelterAnimalOutcomes_v2.ipynb",
      "version": "0.3.2",
      "provenance": [],
      "include_colab_link": true
    },
    "kernelspec": {
      "display_name": "Python 3",
      "language": "python",
      "name": "python3"
    }
  },
  "cells": [
    {
      "cell_type": "markdown",
      "metadata": {
        "id": "view-in-github",
        "colab_type": "text"
      },
      "source": [
        "[View in Colaboratory](https://colab.research.google.com/github/DeboraID/AnimalsShelter_ProjectII/blob/master/ShelterAnimalOutcomes_v2.ipynb)"
      ]
    },
    {
      "metadata": {
        "id": "cyKRSX0aBIAh",
        "colab_type": "code",
        "colab": {}
      },
      "cell_type": "code",
      "source": [
        "import pandas as pd\n",
        "import numpy as np\n",
        "import seaborn as sns\n",
        "import matplotlib.pyplot as plt\n",
        "from datetime import datetime\n",
        "%matplotlib inline"
      ],
      "execution_count": 0,
      "outputs": []
    },
    {
      "metadata": {
        "id": "G4mv71RGBIAm",
        "colab_type": "text"
      },
      "cell_type": "markdown",
      "source": [
        "## Shelter Animal Outcomes ##\n",
        "\n",
        "* Get the data\n",
        "* Apply **pre-processing** steps if necessary\n",
        "    * data-related (e.g. filtering,  scaling, imputing, encoding, etc.)\n",
        "    * model-related (e.g. scoring, dimensionality reduction, feature extraction, etc.)\n",
        "* Data Analizis and Visualization \n",
        "* Choose a **model**\n",
        "    * Apply the **_fit()_** method to \"create\" the model\n",
        "    * Apply the **_predict()_** and/or **_transform()_** methods to \"use\" the model\n",
        "    * Apply the **_score()_** method to \"estimate\" the result\n"
      ]
    },
    {
      "metadata": {
        "id": "vK6W1CzcBIAn",
        "colab_type": "text"
      },
      "cell_type": "markdown",
      "source": [
        "*** Get the data ***"
      ]
    },
    {
      "metadata": {
        "id": "JhBwaa_mCFDL",
        "colab_type": "code",
        "colab": {
          "resources": {
            "http://localhost:8080/nbextensions/google.colab/files.js": {
              "data": "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",
              "ok": true,
              "headers": [
                [
                  "content-type",
                  "application/javascript"
                ]
              ],
              "status": 200,
              "status_text": ""
            }
          },
          "base_uri": "https://localhost:8080/",
          "height": 59
        },
        "outputId": "d3188683-9e09-49eb-f54f-234aabc209ee"
      },
      "cell_type": "code",
      "source": [
        "#upload for run in colab\n",
        "from google.colab import files\n",
        "\n",
        "train_df = files.upload()\n",
        "test_df = files.upload()"
      ],
      "execution_count": 3,
      "outputs": [
        {
          "output_type": "display_data",
          "data": {
            "text/html": [
              "\n",
              "     <input type=\"file\" id=\"files-645d19c9-2dcc-4044-b0ef-4bad2982473b\" name=\"files[]\" multiple disabled />\n",
              "     <output id=\"result-645d19c9-2dcc-4044-b0ef-4bad2982473b\">\n",
              "      Upload widget is only available when the cell has been executed in the\n",
              "      current browser session. Please rerun this cell to enable.\n",
              "      </output>\n",
              "      <script src=\"/nbextensions/google.colab/files.js\"></script> "
            ],
            "text/plain": [
              "<IPython.core.display.HTML object>"
            ]
          },
          "metadata": {
            "tags": []
          }
        },
        {
          "output_type": "display_data",
          "data": {
            "text/html": [
              "\n",
              "     <input type=\"file\" id=\"files-a54894fc-98eb-418d-b5d4-7e02ef873f72\" name=\"files[]\" multiple disabled />\n",
              "     <output id=\"result-a54894fc-98eb-418d-b5d4-7e02ef873f72\">\n",
              "      Upload widget is only available when the cell has been executed in the\n",
              "      current browser session. Please rerun this cell to enable.\n",
              "      </output>\n",
              "      <script src=\"/nbextensions/google.colab/files.js\"></script> "
            ],
            "text/plain": [
              "<IPython.core.display.HTML object>"
            ]
          },
          "metadata": {
            "tags": []
          }
        }
      ]
    },
    {
      "metadata": {
        "id": "YGMdtit8BIAp",
        "colab_type": "code",
        "colab": {
          "base_uri": "https://localhost:8080/",
          "height": 238
        },
        "outputId": "431ecd86-c215-439c-f2cc-a5192909ddef"
      },
      "cell_type": "code",
      "source": [
        "train_df =  pd.read_csv('train.csv', parse_dates=['DateTime'])\n",
        "test_df =  pd.read_csv('test.csv', parse_dates=['DateTime'])\n",
        "test_df['OutcomeType'] = ''\n",
        "\n",
        "train_df = train_df.drop(['AnimalID','OutcomeSubtype'] , axis=1)\n",
        "test_df = test_df.drop('ID', axis=1)\n",
        "\n",
        "full_data = pd.concat([train_df, test_df], axis=0)\n",
        "full_data.info()\n",
        "del train_df , test_df"
      ],
      "execution_count": 4,
      "outputs": [
        {
          "output_type": "stream",
          "text": [
            "<class 'pandas.core.frame.DataFrame'>\n",
            "Int64Index: 38185 entries, 0 to 11455\n",
            "Data columns (total 8 columns):\n",
            "AgeuponOutcome    38161 non-null object\n",
            "AnimalType        38185 non-null object\n",
            "Breed             38185 non-null object\n",
            "Color             38185 non-null object\n",
            "DateTime          38185 non-null datetime64[ns]\n",
            "Name              27269 non-null object\n",
            "OutcomeType       38185 non-null object\n",
            "SexuponOutcome    38184 non-null object\n",
            "dtypes: datetime64[ns](1), object(7)\n",
            "memory usage: 2.6+ MB\n"
          ],
          "name": "stdout"
        }
      ]
    },
    {
      "metadata": {
        "id": "yifLEjoSBIAu",
        "colab_type": "code",
        "colab": {
          "base_uri": "https://localhost:8080/",
          "height": 305
        },
        "outputId": "0dd721da-e1b6-48f3-f709-ac981a59173a"
      },
      "cell_type": "code",
      "source": [
        "#check population of cat and dog balance\n",
        "bal_population = full_data.groupby('AnimalType')['DateTime'].count()\n",
        "bal_population.plot.bar()"
      ],
      "execution_count": 5,
      "outputs": [
        {
          "output_type": "execute_result",
          "data": {
            "text/plain": [
              "<matplotlib.axes._subplots.AxesSubplot at 0x7f7a16936128>"
            ]
          },
          "metadata": {
            "tags": []
          },
          "execution_count": 5
        },
        {
          "output_type": "display_data",
          "data": {
            "image/png": "[encoded data removed]",
            "text/plain": [
              "<matplotlib.figure.Figure at 0x7f7a169d5470>"
            ]
          },
          "metadata": {
            "tags": []
          }
        }
      ]
    },
    {
      "metadata": {
        "id": "AEmdyJxXBIAy",
        "colab_type": "text"
      },
      "cell_type": "markdown",
      "source": [
        "*** Preprocess the data ***"
      ]
    },
    {
      "metadata": {
        "id": "fdVG8g6HBIA0",
        "colab_type": "code",
        "colab": {
          "base_uri": "https://localhost:8080/",
          "height": 187
        },
        "outputId": "edaf2da4-7f95-402b-c1b8-1df22aff5a99"
      },
      "cell_type": "code",
      "source": [
        "# Check Missing Data:\n",
        "def num_missing(x):\n",
        "    \n",
        "    return sum(x.isnull())\n",
        "\n",
        "#Applying per column:\n",
        "\n",
        "print ('Missing data per column\\n', full_data.apply(num_missing, axis=0)) #axis=0 defines that function is to be applied on each column)\n",
        "\n",
        "#Applying per row:\n",
        "# \"'if are there rows with a lot of missing data they should be pulled out of the calculation (althogu in this case the most important columns haven't empty data )'\"\n",
        "\n",
        "# print ('Missing data per row',df_shelter.apply(num_missing, axis=1).sort_values(ascending=False)) #axis=1 defines that function is to be applied on each row)"
      ],
      "execution_count": 6,
      "outputs": [
        {
          "output_type": "stream",
          "text": [
            "Missing data per column\n",
            " AgeuponOutcome       24\n",
            "AnimalType            0\n",
            "Breed                 0\n",
            "Color                 0\n",
            "DateTime              0\n",
            "Name              10916\n",
            "OutcomeType           0\n",
            "SexuponOutcome        1\n",
            "dtype: int64\n"
          ],
          "name": "stdout"
        }
      ]
    },
    {
      "metadata": {
        "id": "ps4S86MlBIA4",
        "colab_type": "code",
        "colab": {}
      },
      "cell_type": "code",
      "source": [
        "#clean empty rows (rows without Datatime, AnimalType and Age aren't usefull)\n",
        "mask = ~full_data['DateTime'].isna() & ~full_data['AnimalType'].isna()& ~full_data['AgeuponOutcome'].isna()\n",
        "#full_data.loc[mask == False]\n",
        "# print(full_data.shape)\n",
        "full_data = full_data.loc[mask, :]\n",
        "# print(full_data.shape)"
      ],
      "execution_count": 0,
      "outputs": []
    },
    {
      "metadata": {
        "id": "q1aiM0zHBIA7",
        "colab_type": "code",
        "colab": {}
      },
      "cell_type": "code",
      "source": [
        "# #another way to check rows with empty values \n",
        "# def count_missing(vec):\n",
        "#     \"\"\"counts the number of missing values in a vector\n",
        "#     \"\"\"\n",
        "#     null_vec = pd.isnull(vec) # vector of True/False\n",
        "#     null_count = np.sum(null_vec) # True has a value of 1\n",
        "#     return null_count\n",
        "\n",
        "# df_shelter.apply(count_missing, axis=1).value_counts()"
      ],
      "execution_count": 0,
      "outputs": []
    },
    {
      "metadata": {
        "id": "ojUUBLamBIA9",
        "colab_type": "text"
      },
      "cell_type": "markdown",
      "source": [
        "*** Data preparation ***"
      ]
    },
    {
      "metadata": {
        "id": "1M_vnoncBIA-",
        "colab_type": "text"
      },
      "cell_type": "markdown",
      "source": [
        "* Data Standartization \n",
        "    * Age of the animal"
      ]
    },
    {
      "metadata": {
        "id": "gfatRKJ7BIA-",
        "colab_type": "code",
        "colab": {
          "base_uri": "https://localhost:8080/",
          "height": 170
        },
        "outputId": "6c1691a2-7bdd-456c-fe17-687790cba7c9"
      },
      "cell_type": "code",
      "source": [
        "#step 1\n",
        "full_data['AgeuponOutcome'].unique() # how do i sorted values here?.sort()"
      ],
      "execution_count": 9,
      "outputs": [
        {
          "output_type": "execute_result",
          "data": {
            "text/plain": [
              "array(['1 year', '2 years', '3 weeks', '1 month', '5 months', '4 years',\n",
              "       '3 months', '2 weeks', '2 months', '10 months', '6 months',\n",
              "       '5 years', '7 years', '3 years', '4 months', '12 years', '9 years',\n",
              "       '6 years', '1 weeks', '11 years', '4 weeks', '7 months', '8 years',\n",
              "       '11 months', '4 days', '9 months', '8 months', '15 years',\n",
              "       '10 years', '1 week', '0 years', '14 years', '3 days', '6 days',\n",
              "       '5 days', '5 weeks', '2 days', '16 years', '1 day', '13 years',\n",
              "       '17 years', '18 years', '19 years', '20 years', '22 years'],\n",
              "      dtype=object)"
            ]
          },
          "metadata": {
            "tags": []
          },
          "execution_count": 9
        }
      ]
    },
    {
      "metadata": {
        "id": "GJFZnCkWBIBD",
        "colab_type": "code",
        "colab": {}
      },
      "cell_type": "code",
      "source": [
        "# step 2 & 3\n",
        "# Calculating the total animal's age:\n",
        "full_data['AgeuponOutcome_Time']= full_data['AgeuponOutcome'].str.split(' ').str.get(1) #split the data \n",
        "full_data['AgeuponOutcome_Time']=full_data['AgeuponOutcome_Time'].replace( ['year', 'years', 'week', 'weeks', 'month','months', 'days','day'], \n",
        "                                                                [365, 365, 7, 7,30.5, 30.5, 1,1]) #replace by the total days \n",
        "#fill the empty values in order to be able to do math calculations\n",
        "full_data['AgeuponOutcome_Time'] = full_data['AgeuponOutcome_Time'].fillna(0).astype(float)\n",
        "\n",
        "#transform the age data to numbers that we can manipulate with math tecniques\n",
        "full_data['AgeuponOutcome_Age']= full_data['AgeuponOutcome'].str.split(' ').str.get(0).fillna(0).astype(float)\n",
        "\n",
        "#calculate the age in days \n",
        "full_data['AgeuponOutcome_InDays']= full_data['AgeuponOutcome_Age']* full_data['AgeuponOutcome_Time']\n",
        "\n",
        "#calculate the age in years\n",
        "full_data['AgeuponOutcome_InYears']= full_data['AgeuponOutcome_InDays']/365\n",
        "\n"
      ],
      "execution_count": 0,
      "outputs": []
    },
    {
      "metadata": {
        "id": "ZHbEN35ZBIBG",
        "colab_type": "code",
        "colab": {}
      },
      "cell_type": "code",
      "source": [
        "#split the gender of  the animal \n",
        "def General_gender(x):\n",
        "    if x == 'Female':\n",
        "        return 'Female'\n",
        "    elif x == 'Male':\n",
        "        return 'Male'\n",
        "    else:\n",
        "        return 'unknow'\n",
        "    \n",
        "full_data['Gender']= full_data['SexuponOutcome'].str.split(' ').str.get(1) #separate general gender\n",
        "full_data['Gender'] = full_data.Gender.apply(General_gender) \n",
        "\n",
        "# data.loc[data.Gender == 'unknow'].count()\n",
        "# data.loc[data.Gender.isnull()].count()\n"
      ],
      "execution_count": 0,
      "outputs": []
    },
    {
      "metadata": {
        "id": "b0eC7sBWBIBI",
        "colab_type": "text"
      },
      "cell_type": "markdown",
      "source": [
        "*** Data analizis***"
      ]
    },
    {
      "metadata": {
        "id": "jsFqmOt0BIBI",
        "colab_type": "text"
      },
      "cell_type": "markdown",
      "source": [
        "Dogs vs cats -- Segmentation Age's "
      ]
    },
    {
      "metadata": {
        "id": "Vs8DAqBSBIBK",
        "colab_type": "code",
        "colab": {
          "base_uri": "https://localhost:8080/",
          "height": 300
        },
        "outputId": "14eff11a-2ce1-4b65-b86a-6c2f2a1ce2ba"
      },
      "cell_type": "code",
      "source": [
        "from numpy import where  \n",
        "\n",
        "Ages = full_data.groupby(['AnimalType','AgeuponOutcome_InYears'])['AgeuponOutcome_InYears'].count().reset_index(name='Qty')\n",
        "a_min, a_max = 0, 3000\n",
        "y_min, y_max = 0, 20\n",
        "Ages.plot('Qty', 'AgeuponOutcome_InYears', kind='scatter',\n",
        "          xlim=[a_min, a_max], ylim=[y_min, y_max],\n",
        "          c=where(full_data.AnimalType =='Dog', 'blue', 'green'),legend = True, \n",
        "          label = 'Dog' , s=50)"
      ],
      "execution_count": 12,
      "outputs": [
        {
          "output_type": "execute_result",
          "data": {
            "text/plain": [
              "<matplotlib.axes._subplots.AxesSubplot at 0x7f7a1373aeb8>"
            ]
          },
          "metadata": {
            "tags": []
          },
          "execution_count": 12
        },
        {
          "output_type": "display_data",
          "data": {
            "image/png": "[encoded data removed]",
            "text/plain": [
              "<matplotlib.figure.Figure at 0x7f7a1359f470>"
            ]
          },
          "metadata": {
            "tags": []
          }
        }
      ]
    },
    {
      "metadata": {
        "id": "AUqaaJspBIBN",
        "colab_type": "text"
      },
      "cell_type": "markdown",
      "source": [
        "The scattered distribution of animals in ages does not tell us much, except that in both cases the most common age of and specific outcome reason in the shelters is around the first two years of life."
      ]
    },
    {
      "metadata": {
        "id": "hKnJTaOIBIBO",
        "colab_type": "text"
      },
      "cell_type": "markdown",
      "source": [
        "In order to be able to study more deep the data, \n",
        "I will create groups of ages based on the following links:\n",
        "for cat category :\n",
        "https://www.google.co.il/search?q=stages+of+age+dogs&source=lnms&tbm=isch&sa=X&ved=0ahUKEwiA3IuE0NXbAhWHK8AKHXbNDf0Q_AUICigB&biw=1366&bih=635#imgrc=eQu8yLrz9XWLRM:\n",
        "for dog's category : \n",
        "https://www.google.co.il/search?q=stages+of+age+dogs&source=lnms&tbm=isch&sa=X&ved=0ahUKEwiA3IuE0NXbAhWHK8AKHXbNDf0Q_AUICigB&biw=1366&bih=635#imgrc=womRL2LDYl5SOM:'''\n",
        "More or less they have the same stages :"
      ]
    },
    {
      "metadata": {
        "id": "fOyHb1IFBIBP",
        "colab_type": "code",
        "colab": {
          "base_uri": "https://localhost:8080/",
          "height": 348
        },
        "outputId": "4dc1ce7d-52a9-449c-d1a7-6de965a3b66e"
      },
      "cell_type": "code",
      "source": [
        "def CategoryAge(x):\n",
        "    if x <= 1.5:\n",
        "        return 'NewBorn'\n",
        "    elif 1.5 < x <= 3 :\n",
        "        return 'Adolescence'\n",
        "    elif 3 < x <= 7 :\n",
        "        return 'Adulthood '\n",
        "    else:\n",
        "        return 'Senior'\n",
        "    \n",
        "full_data['AgeCategory'] = full_data.AgeuponOutcome_InYears.apply(CategoryAge)\n",
        "sns.factorplot(x=\"AnimalType\", hue=\"AgeCategory\", data=full_data, kind=\"count\",\n",
        "                    size=4, aspect=.7)\n"
      ],
      "execution_count": 13,
      "outputs": [
        {
          "output_type": "stream",
          "text": [
            "/usr/local/lib/python3.6/dist-packages/seaborn/categorical.py:1468: FutureWarning: remove_na is deprecated and is a private function. Do not use.\n",
            "  stat_data = remove_na(group_data[hue_mask])\n"
          ],
          "name": "stderr"
        },
        {
          "output_type": "execute_result",
          "data": {
            "text/plain": [
              "<seaborn.axisgrid.FacetGrid at 0x7f7a16918048>"
            ]
          },
          "metadata": {
            "tags": []
          },
          "execution_count": 13
        },
        {
          "output_type": "display_data",
          "data": {
            "image/png": "[encoded data removed]",
            "text/plain": [
              "<matplotlib.figure.Figure at 0x7f7a167a4cf8>"
            ]
          },
          "metadata": {
            "tags": []
          }
        }
      ]
    },
    {
      "metadata": {
        "id": "N1cQJb2MBIBS",
        "colab_type": "code",
        "colab": {}
      },
      "cell_type": "code",
      "source": [
        "#Drill down into each Animaltype and current OutcomeType\n",
        "\n",
        "dogs = full_data.loc[(full_data['AnimalType']=='Dog' )]\n",
        "cats = full_data.loc[(full_data['AnimalType']=='Cat')]"
      ],
      "execution_count": 0,
      "outputs": []
    },
    {
      "metadata": {
        "id": "U1ATlsG-BIBV",
        "colab_type": "code",
        "colab": {
          "base_uri": "https://localhost:8080/",
          "height": 780
        },
        "outputId": "855c3c93-cb6d-4356-a76a-f4680e9ae23a"
      },
      "cell_type": "code",
      "source": [
        "#Check the segmentation of the cases based on all dog's data, \n",
        "#AgeCategory and OutcomeType\n",
        "\n",
        "sns.factorplot(x=\"OutcomeType\", hue=\"AgeCategory\", data=dogs, kind=\"count\",\n",
        "                    size=10, aspect=.7)\n"
      ],
      "execution_count": 15,
      "outputs": [
        {
          "output_type": "stream",
          "text": [
            "/usr/local/lib/python3.6/dist-packages/seaborn/categorical.py:1468: FutureWarning: remove_na is deprecated and is a private function. Do not use.\n",
            "  stat_data = remove_na(group_data[hue_mask])\n"
          ],
          "name": "stderr"
        },
        {
          "output_type": "execute_result",
          "data": {
            "text/plain": [
              "<seaborn.axisgrid.FacetGrid at 0x7f7a1359f780>"
            ]
          },
          "metadata": {
            "tags": []
          },
          "execution_count": 15
        },
        {
          "output_type": "display_data",
          "data": {
            "image/png": "[encoded data removed]",
            "text/plain": [
              "<matplotlib.figure.Figure at 0x7f7a167aa5f8>"
            ]
          },
          "metadata": {
            "tags": []
          }
        }
      ]
    },
    {
      "metadata": {
        "id": "LXmGf_2sBIBg",
        "colab_type": "code",
        "colab": {
          "base_uri": "https://localhost:8080/",
          "height": 780
        },
        "outputId": "feff10fd-3701-40cc-d9a6-cb06096adeae"
      },
      "cell_type": "code",
      "source": [
        "#Check the segmentation of the cases based on all cat's data, \n",
        "#AgeCategory and OutcomeType\n",
        "\n",
        "sns.factorplot(x=\"OutcomeType\", hue=\"AgeCategory\", data=cats, kind=\"count\",\n",
        "                    size=10, aspect=.7)"
      ],
      "execution_count": 16,
      "outputs": [
        {
          "output_type": "stream",
          "text": [
            "/usr/local/lib/python3.6/dist-packages/seaborn/categorical.py:1468: FutureWarning: remove_na is deprecated and is a private function. Do not use.\n",
            "  stat_data = remove_na(group_data[hue_mask])\n"
          ],
          "name": "stderr"
        },
        {
          "output_type": "execute_result",
          "data": {
            "text/plain": [
              "<seaborn.axisgrid.FacetGrid at 0x7f7a170b98d0>"
            ]
          },
          "metadata": {
            "tags": []
          },
          "execution_count": 16
        },
        {
          "output_type": "display_data",
          "data": {
            "image/png": "[encoded data removed]",
            "text/plain": [
              "<matplotlib.figure.Figure at 0x7f7a137398d0>"
            ]
          },
          "metadata": {
            "tags": []
          }
        }
      ]
    },
    {
      "metadata": {
        "id": "uWEATi9uBIBj",
        "colab_type": "text"
      },
      "cell_type": "markdown",
      "source": [
        "Conclusions: \n",
        "\n",
        "* The most common age for those animals in the shelters are during their first two years of live. \n",
        "\n",
        "* More dogs are outcoming to shelters due to 'return_to_owner' than cats, and it happend the most during the 'Adolescence' period, although that aren't a big differentces between the rest of the age's categories."
      ]
    },
    {
      "metadata": {
        "id": "A1ePP3nCBIBk",
        "colab_type": "text"
      },
      "cell_type": "markdown",
      "source": [
        "*** Dates and Time Analizis***"
      ]
    },
    {
      "metadata": {
        "id": "uTipmB7kBIBm",
        "colab_type": "code",
        "colab": {}
      },
      "cell_type": "code",
      "source": [
        "full_data['Day_ofWeek'] = full_data['DateTime'].dt.weekday_name\n",
        " \n",
        "def WeekEnd(x):\n",
        "    if x in ('Saturday', 'Sunday'):\n",
        "        return 'Weekend'\n",
        "    else:\n",
        "        return 'NoWeekend'\n",
        "    \n",
        "full_data['WeekEnd'] = full_data.Day_ofWeek.apply(WeekEnd)\n"
      ],
      "execution_count": 0,
      "outputs": []
    },
    {
      "metadata": {
        "id": "mJRWPh5xBIBt",
        "colab_type": "code",
        "colab": {
          "base_uri": "https://localhost:8080/",
          "height": 780
        },
        "outputId": "2bc94ad9-a10b-4cc0-87ae-cdffa3bfd521"
      },
      "cell_type": "code",
      "source": [
        "sns.factorplot(x=\"AgeCategory\", hue=\"WeekEnd\", data=full_data, kind=\"count\",\n",
        "                    size=10, aspect=.7)"
      ],
      "execution_count": 18,
      "outputs": [
        {
          "output_type": "stream",
          "text": [
            "/usr/local/lib/python3.6/dist-packages/seaborn/categorical.py:1468: FutureWarning: remove_na is deprecated and is a private function. Do not use.\n",
            "  stat_data = remove_na(group_data[hue_mask])\n"
          ],
          "name": "stderr"
        },
        {
          "output_type": "execute_result",
          "data": {
            "text/plain": [
              "<seaborn.axisgrid.FacetGrid at 0x7f7a13c0a320>"
            ]
          },
          "metadata": {
            "tags": []
          },
          "execution_count": 18
        },
        {
          "output_type": "display_data",
          "data": {
            "image/png": "[encoded data removed]",
            "text/plain": [
              "<matplotlib.figure.Figure at 0x7f7a13c12668>"
            ]
          },
          "metadata": {
            "tags": []
          }
        }
      ]
    },
    {
      "metadata": {
        "id": "ono_ELHSBIBy",
        "colab_type": "text"
      },
      "cell_type": "markdown",
      "source": [
        "**Conclusion:** \n",
        "Animal are outcoming dirug the week and not during the weekends.  "
      ]
    },
    {
      "metadata": {
        "id": "3gTMl2eBBIB0",
        "colab_type": "text"
      },
      "cell_type": "markdown",
      "source": [
        "***Seasonality - *** stablish a rule for those animals that are beeing returned . \n",
        "\n",
        "**Are the season a parameter to take into account?**"
      ]
    },
    {
      "metadata": {
        "id": "vJ--PH4gBIB1",
        "colab_type": "code",
        "colab": {}
      },
      "cell_type": "code",
      "source": [
        "from pandas.tseries.holiday import USFederalHolidayCalendar as calendar\n",
        "cal = calendar()\n",
        "dr = full_data.DateTime\n",
        "holidays = cal.holidays(start=dr.min(), end=dr.max())\n",
        "full_data['Holiday'] = full_data['DateTime'].isin(holidays)\n"
      ],
      "execution_count": 0,
      "outputs": []
    },
    {
      "metadata": {
        "id": "lOuYUr1ABIB3",
        "colab_type": "code",
        "colab": {
          "base_uri": "https://localhost:8080/",
          "height": 85
        },
        "outputId": "80eadfe2-7852-4e68-bcd9-ad0f9bac69e4"
      },
      "cell_type": "code",
      "source": [
        "# Check status\n",
        "full_data.groupby(['Holiday'])['DateTime'].count()"
      ],
      "execution_count": 20,
      "outputs": [
        {
          "output_type": "execute_result",
          "data": {
            "text/plain": [
              "Holiday\n",
              "False    38138\n",
              "True        23\n",
              "Name: DateTime, dtype: int64"
            ]
          },
          "metadata": {
            "tags": []
          },
          "execution_count": 20
        }
      ]
    },
    {
      "metadata": {
        "id": "wrLw3zARBIB8",
        "colab_type": "text"
      },
      "cell_type": "markdown",
      "source": [
        "***Conclusion:*** Most of the pet's are going outthe shelters during non holidays period"
      ]
    },
    {
      "metadata": {
        "id": "3eL4G0QzBIB9",
        "colab_type": "text"
      },
      "cell_type": "markdown",
      "source": [
        "***Analizis by gender***"
      ]
    },
    {
      "metadata": {
        "id": "hKZgXddyBIB9",
        "colab_type": "code",
        "colab": {
          "base_uri": "https://localhost:8080/",
          "height": 420
        },
        "outputId": "d7802f6c-ad1d-4a7d-d2e2-13fa486892b5"
      },
      "cell_type": "code",
      "source": [
        "sns.factorplot(x=\"AnimalType\", hue=\"Gender\", data=full_data, kind=\"count\",\n",
        "                    size=5, aspect=.7)"
      ],
      "execution_count": 21,
      "outputs": [
        {
          "output_type": "stream",
          "text": [
            "/usr/local/lib/python3.6/dist-packages/seaborn/categorical.py:1468: FutureWarning: remove_na is deprecated and is a private function. Do not use.\n",
            "  stat_data = remove_na(group_data[hue_mask])\n"
          ],
          "name": "stderr"
        },
        {
          "output_type": "execute_result",
          "data": {
            "text/plain": [
              "<seaborn.axisgrid.FacetGrid at 0x7f7a13bfa160>"
            ]
          },
          "metadata": {
            "tags": []
          },
          "execution_count": 21
        },
        {
          "output_type": "display_data",
          "data": {
            "image/png": "[encoded data removed]",
            "text/plain": [
              "<matplotlib.figure.Figure at 0x7f7a13bfad68>"
            ]
          },
          "metadata": {
            "tags": []
          }
        }
      ]
    },
    {
      "metadata": {
        "id": "sHwgFK4fBICB",
        "colab_type": "code",
        "colab": {}
      },
      "cell_type": "code",
      "source": [
        "full_data['Name_missing'] = full_data['Name'].isna()\n",
        "full_data.groupby(['AnimalType'])['Name_missing'].count()\n",
        "full_data = full_data[full_data['Name_missing']==True]\n",
        "# sns.factorplot(x=\"OutcomeType\", hue=\"AnimalType\", data=name_missing, kind=\"count\",\n",
        "#                     size=4, aspect=4)"
      ],
      "execution_count": 0,
      "outputs": []
    },
    {
      "metadata": {
        "id": "pMYC-mr5BICC",
        "colab_type": "text"
      },
      "cell_type": "markdown",
      "source": [
        "***Conclusion: ***  no conclusion from the last two analizis "
      ]
    },
    {
      "metadata": {
        "id": "d-Yum4b1BICD",
        "colab_type": "text"
      },
      "cell_type": "markdown",
      "source": [
        "***Spliting the color and finding more metrics ***"
      ]
    },
    {
      "metadata": {
        "id": "yTV7Csc1BICE",
        "colab_type": "code",
        "colab": {
          "base_uri": "https://localhost:8080/",
          "height": 323
        },
        "outputId": "c4805e87-51bf-4815-ad07-be8369e64361"
      },
      "cell_type": "code",
      "source": [
        "#color\n",
        "           \n",
        "full_data['Color1'] = full_data.Color.str.split('/').str.get(1)  \n",
        "full_data['Color2'] =full_data.Color.str.split('/').str.get(2)  \n",
        "full_data['unicolor'] = full_data.Color1.apply(lambda x: 1 if x else 0) \n",
        "\n",
        "# full_data['unicolor'].isna()      "
      ],
      "execution_count": 23,
      "outputs": [
        {
          "output_type": "stream",
          "text": [
            "/usr/local/lib/python3.6/dist-packages/ipykernel_launcher.py:2: SettingWithCopyWarning: \n",
            "A value is trying to be set on a copy of a slice from a DataFrame.\n",
            "Try using .loc[row_indexer,col_indexer] = value instead\n",
            "\n",
            "See the caveats in the documentation: http://pandas.pydata.org/pandas-docs/stable/indexing.html#indexing-view-versus-copy\n",
            "  \n",
            "/usr/local/lib/python3.6/dist-packages/ipykernel_launcher.py:3: SettingWithCopyWarning: \n",
            "A value is trying to be set on a copy of a slice from a DataFrame.\n",
            "Try using .loc[row_indexer,col_indexer] = value instead\n",
            "\n",
            "See the caveats in the documentation: http://pandas.pydata.org/pandas-docs/stable/indexing.html#indexing-view-versus-copy\n",
            "  This is separate from the ipykernel package so we can avoid doing imports until\n",
            "/usr/local/lib/python3.6/dist-packages/ipykernel_launcher.py:4: SettingWithCopyWarning: \n",
            "A value is trying to be set on a copy of a slice from a DataFrame.\n",
            "Try using .loc[row_indexer,col_indexer] = value instead\n",
            "\n",
            "See the caveats in the documentation: http://pandas.pydata.org/pandas-docs/stable/indexing.html#indexing-view-versus-copy\n",
            "  after removing the cwd from sys.path.\n"
          ],
          "name": "stderr"
        }
      ]
    },
    {
      "metadata": {
        "id": "b0UE6T3yBICI",
        "colab_type": "code",
        "colab": {
          "base_uri": "https://localhost:8080/",
          "height": 119
        },
        "outputId": "a6251bdd-0eee-4150-a55e-587cc28116dd"
      },
      "cell_type": "code",
      "source": [
        "#checking if the breed is mix or not\n",
        "def get_mix(x):\n",
        "    x = str(x)\n",
        "    if x.find('Mix') >= 0: return 'mix'\n",
        "    return 'not'\n",
        "full_data['Mix'] = full_data.Breed.apply(get_mix)\n"
      ],
      "execution_count": 24,
      "outputs": [
        {
          "output_type": "stream",
          "text": [
            "/usr/local/lib/python3.6/dist-packages/ipykernel_launcher.py:5: SettingWithCopyWarning: \n",
            "A value is trying to be set on a copy of a slice from a DataFrame.\n",
            "Try using .loc[row_indexer,col_indexer] = value instead\n",
            "\n",
            "See the caveats in the documentation: http://pandas.pydata.org/pandas-docs/stable/indexing.html#indexing-view-versus-copy\n",
            "  \"\"\"\n"
          ],
          "name": "stderr"
        }
      ]
    },
    {
      "metadata": {
        "id": "eWqg-cpXBICM",
        "colab_type": "text"
      },
      "cell_type": "markdown",
      "source": [
        "## Machine Lerning\n",
        "***Decision Tree (Outcome)***\n",
        "Start Point"
      ]
    },
    {
      "metadata": {
        "id": "S4nQ0tWdBICO",
        "colab_type": "code",
        "colab": {}
      },
      "cell_type": "code",
      "source": [
        "# full_data.columns"
      ],
      "execution_count": 0,
      "outputs": []
    },
    {
      "metadata": {
        "id": "mFDeb4DRBICQ",
        "colab_type": "code",
        "colab": {
          "base_uri": "https://localhost:8080/",
          "height": 71
        },
        "outputId": "fb2ac087-9fc9-49c1-fdd7-ea7a74a68542"
      },
      "cell_type": "code",
      "source": [
        "from sklearn.model_selection import train_test_split\n",
        "\n",
        "#splite the files test and train again\n",
        "\n",
        "X_test_general =  full_data[full_data['OutcomeType']==''] \n",
        "X_train_general = full_data[full_data['OutcomeType']!='']\n",
        "\n",
        "#create the Target for train\n",
        "X_train = X_train_general.drop('OutcomeType', axis = 1)\n",
        "X_Target = X_test_general.drop('OutcomeType', axis = 1)\n",
        "y_train = X_train_general.OutcomeType\n",
        "\n",
        "#create file for the frist cheking\n",
        "X_train, X_test, y_train, y_test = train_test_split(X_train,y_train,train_size=0.7, random_state=451816)\n",
        "\n"
      ],
      "execution_count": 26,
      "outputs": [
        {
          "output_type": "stream",
          "text": [
            "/usr/local/lib/python3.6/dist-packages/sklearn/model_selection/_split.py:2026: FutureWarning: From version 0.21, test_size will always complement train_size unless both are specified.\n",
            "  FutureWarning)\n"
          ],
          "name": "stderr"
        }
      ]
    },
    {
      "metadata": {
        "id": "C5J2_w69BICW",
        "colab_type": "code",
        "colab": {}
      },
      "cell_type": "code",
      "source": [
        "# Choose relevant features for start the prediction \n",
        "\n",
        "X_train = X_train[['AnimalType','SexuponOutcome',\n",
        "                      'AgeuponOutcome_InYears', 'Gender',\n",
        "                      'AgeCategory','Day_ofWeek','WeekEnd',\n",
        "                      'Holiday','Name_missing','unicolor']]\n",
        "X_test = X_test[['AnimalType','SexuponOutcome',\n",
        "                      'AgeuponOutcome_InYears', 'Gender',\n",
        "                      'AgeCategory','Day_ofWeek','WeekEnd',\n",
        "                      'Holiday','Name_missing','unicolor']]\n",
        "\n",
        "X_train_dm= pd.get_dummies(X_train)\n",
        "X_test_dm= pd.get_dummies(X_test)\n",
        "\n",
        "# X_train.head(2)\n",
        "# X_test.head(2)\n",
        "# X_train_dm.head(2)\n",
        "# y_train.head(2)"
      ],
      "execution_count": 0,
      "outputs": []
    },
    {
      "metadata": {
        "id": "EjyGbu6RBICY",
        "colab_type": "text"
      },
      "cell_type": "markdown",
      "source": [
        "***Fit the model***"
      ]
    },
    {
      "metadata": {
        "id": "6pUqL3F_BICZ",
        "colab_type": "code",
        "colab": {
          "base_uri": "https://localhost:8080/",
          "height": 224
        },
        "outputId": "964d8911-a03e-4f97-97e6-67c3b90329f4"
      },
      "cell_type": "code",
      "source": [
        "from sklearn.metrics import confusion_matrix, classification_report\n",
        "from sklearn.metrics import accuracy_score\n",
        "from sklearn.tree import DecisionTreeClassifier, export_graphviz\n",
        "\n",
        "#fit the model (X_train_dm,y_train )\n",
        "shelter_dt = DecisionTreeClassifier(max_depth=5).fit(X_train_dm, y_train)\n",
        "# Assess the model\n",
        "cm = confusion_matrix(y_true=y_train,\n",
        "                      y_pred=shelter_dt.predict(X_train_dm))\n",
        "pd.DataFrame(cm,\n",
        "             index=shelter_dt.classes_,\n",
        "             columns=shelter_dt.classes_)"
      ],
      "execution_count": 28,
      "outputs": [
        {
          "output_type": "execute_result",
          "data": {
            "text/html": [
              "<div>\n",
              "<style scoped>\n",
              "    .dataframe tbody tr th:only-of-type {\n",
              "        vertical-align: middle;\n",
              "    }\n",
              "\n",
              "    .dataframe tbody tr th {\n",
              "        vertical-align: top;\n",
              "    }\n",
              "\n",
              "    .dataframe thead th {\n",
              "        text-align: right;\n",
              "    }\n",
              "</style>\n",
              "<table border=\"1\" class=\"dataframe\">\n",
              "  <thead>\n",
              "    <tr style=\"text-align: right;\">\n",
              "      <th></th>\n",
              "      <th>Adoption</th>\n",
              "      <th>Died</th>\n",
              "      <th>Euthanasia</th>\n",
              "      <th>Return_to_owner</th>\n",
              "      <th>Transfer</th>\n",
              "    </tr>\n",
              "  </thead>\n",
              "  <tbody>\n",
              "    <tr>\n",
              "      <th>Adoption</th>\n",
              "      <td>1118</td>\n",
              "      <td>0</td>\n",
              "      <td>4</td>\n",
              "      <td>0</td>\n",
              "      <td>44</td>\n",
              "    </tr>\n",
              "    <tr>\n",
              "      <th>Died</th>\n",
              "      <td>2</td>\n",
              "      <td>0</td>\n",
              "      <td>10</td>\n",
              "      <td>0</td>\n",
              "      <td>73</td>\n",
              "    </tr>\n",
              "    <tr>\n",
              "      <th>Euthanasia</th>\n",
              "      <td>7</td>\n",
              "      <td>0</td>\n",
              "      <td>200</td>\n",
              "      <td>0</td>\n",
              "      <td>365</td>\n",
              "    </tr>\n",
              "    <tr>\n",
              "      <th>Return_to_owner</th>\n",
              "      <td>46</td>\n",
              "      <td>0</td>\n",
              "      <td>10</td>\n",
              "      <td>1</td>\n",
              "      <td>55</td>\n",
              "    </tr>\n",
              "    <tr>\n",
              "      <th>Transfer</th>\n",
              "      <td>317</td>\n",
              "      <td>0</td>\n",
              "      <td>116</td>\n",
              "      <td>0</td>\n",
              "      <td>3003</td>\n",
              "    </tr>\n",
              "  </tbody>\n",
              "</table>\n",
              "</div>"
            ],
            "text/plain": [
              "                 Adoption  Died  Euthanasia  Return_to_owner  Transfer\n",
              "Adoption             1118     0           4                0        44\n",
              "Died                    2     0          10                0        73\n",
              "Euthanasia              7     0         200                0       365\n",
              "Return_to_owner        46     0          10                1        55\n",
              "Transfer              317     0         116                0      3003"
            ]
          },
          "metadata": {
            "tags": []
          },
          "execution_count": 28
        }
      ]
    },
    {
      "metadata": {
        "id": "mbxYSun5BICc",
        "colab_type": "code",
        "colab": {
          "base_uri": "https://localhost:8080/",
          "height": 54
        },
        "outputId": "c237fe68-42c0-4569-f070-38fa01c04d35"
      },
      "cell_type": "code",
      "source": [
        "#Accuracy\n",
        "print('Accuracy Validation', accuracy_score(y_true=y_train,\n",
        "                      y_pred=shelter_dt.predict(X_train_dm)))"
      ],
      "execution_count": 29,
      "outputs": [
        {
          "output_type": "stream",
          "text": [
            "Accuracy Validation 0.8046918637125302\n"
          ],
          "name": "stdout"
        }
      ]
    },
    {
      "metadata": {
        "id": "SJH-8viWBICf",
        "colab_type": "code",
        "colab": {
          "base_uri": "https://localhost:8080/",
          "height": 105
        },
        "outputId": "7fb3a4ae-c71a-4b71-a3c6-f34769dfc318"
      },
      "cell_type": "code",
      "source": [
        "#improve the accuraccy by max_dep\n",
        "shelter_dt_3 = DecisionTreeClassifier(max_depth=3).fit(X_train_dm, y_train)\n",
        "shelter_dt_5 = DecisionTreeClassifier(max_depth=5).fit(X_train_dm, y_train)\n",
        "shelter_dt_20 = DecisionTreeClassifier(max_depth=20).fit(X_train_dm, y_train)\n",
        "acc_3 = accuracy_score(y_true=y_train,\n",
        "                      y_pred=shelter_dt_3.predict(X_train_dm))\n",
        "acc_4 = accuracy_score(y_true=y_train,\n",
        "                      y_pred=shelter_dt.predict(X_train_dm))\n",
        "acc_5 = accuracy_score(y_true=y_train,\n",
        "                      y_pred=shelter_dt_5.predict(X_train_dm))\n",
        "acc_20 = accuracy_score(y_true=y_train,\n",
        "                      y_pred=shelter_dt_20.predict(X_train_dm))\n",
        "Max_dep_t = ['max_dep3', 'max_dep4','max_dep5', 'max_dep6']\n",
        "Max_dep_r = [acc_3, acc_4, acc_5, acc_20]\n",
        "best_accurracy = dict(zip(Max_dep_t,Max_dep_r))\n",
        "best_accurracy"
      ],
      "execution_count": 30,
      "outputs": [
        {
          "output_type": "execute_result",
          "data": {
            "text/plain": [
              "{'max_dep3': 0.7788121392664308,\n",
              " 'max_dep4': 0.8046918637125302,\n",
              " 'max_dep5': 0.8046918637125302,\n",
              " 'max_dep6': 0.8532861664494508}"
            ]
          },
          "metadata": {
            "tags": []
          },
          "execution_count": 30
        }
      ]
    },
    {
      "metadata": {
        "id": "7v8SFxgwBICg",
        "colab_type": "code",
        "colab": {
          "base_uri": "https://localhost:8080/",
          "height": 241
        },
        "outputId": "8e713b94-86e7-4f83-8a21-b1d67b33185d"
      },
      "cell_type": "code",
      "source": [
        "#classification Report\n",
        "print(classification_report(y_true=y_train,   \n",
        "                            y_pred=shelter_dt.predict(X_train_dm)))\n",
        "\n"
      ],
      "execution_count": 31,
      "outputs": [
        {
          "output_type": "stream",
          "text": [
            "                 precision    recall  f1-score   support\n",
            "\n",
            "       Adoption       0.75      0.96      0.84      1166\n",
            "           Died       0.00      0.00      0.00        85\n",
            "     Euthanasia       0.59      0.35      0.44       572\n",
            "Return_to_owner       1.00      0.01      0.02       112\n",
            "       Transfer       0.85      0.87      0.86      3436\n",
            "\n",
            "    avg / total       0.79      0.80      0.78      5371\n",
            "\n"
          ],
          "name": "stdout"
        },
        {
          "output_type": "stream",
          "text": [
            "/usr/local/lib/python3.6/dist-packages/sklearn/metrics/classification.py:1135: UndefinedMetricWarning: Precision and F-score are ill-defined and being set to 0.0 in labels with no predicted samples.\n",
            "  'precision', 'predicted', average, warn_for)\n"
          ],
          "name": "stderr"
        }
      ]
    },
    {
      "metadata": {
        "id": "wp-rjjm4BICj",
        "colab_type": "code",
        "colab": {
          "base_uri": "https://localhost:8080/",
          "height": 71
        },
        "outputId": "a3856e33-8849-4662-ec96-96f867c2c549"
      },
      "cell_type": "code",
      "source": [
        "#validating the model with validation file from the train\n",
        "clf = DecisionTreeClassifier(max_depth=20)\n",
        "\n",
        "clf.fit(X_train_dm, y_train)\n",
        "print(clf.score(X_train_dm, y_train))\n",
        "print(clf.score(X_test_dm, y_test))\n"
      ],
      "execution_count": 32,
      "outputs": [
        {
          "output_type": "stream",
          "text": [
            "0.8532861664494508\n",
            "0.7645525629887054\n"
          ],
          "name": "stdout"
        }
      ]
    },
    {
      "metadata": {
        "id": "VW8S6pbuBICm",
        "colab_type": "text"
      },
      "cell_type": "markdown",
      "source": [
        "***Adding features to the analizis in order to obtein better prediction for the animal type***"
      ]
    },
    {
      "metadata": {
        "id": "9K1Mto_pBICn",
        "colab_type": "code",
        "colab": {
          "base_uri": "https://localhost:8080/",
          "height": 241
        },
        "outputId": "affa8ec6-9fae-4900-b607-c5f494688452"
      },
      "cell_type": "code",
      "source": [
        "# DateTime (during the day)\n",
        "interval = pd.to_datetime(full_data['DateTime'])-pd.to_datetime('2013-01-01')\n",
        "full_data.loc[:, 'DateTime_day'] = interval /np.timedelta64(1, 'D')\n",
        "interval = ((interval/np.timedelta64(1, 'D'))%1*24)\n",
        "interval[(interval>=0) & (interval)<6] = 0 #'midnight'\n",
        "interval[(interval>=6) & (interval<12)] = 1 #'morning'\n",
        "interval[(interval>=12) & (interval<18)] = 2 #'afternoon'\n",
        "interval[(interval>=18) & (interval<22)] = 3 #'evening'\n",
        "interval[(interval>=22) & (interval<24)] =0 # 'midnight'\n",
        "full_data.loc[:, 'DateTime_intday'] = interval"
      ],
      "execution_count": 33,
      "outputs": [
        {
          "output_type": "stream",
          "text": [
            "/usr/local/lib/python3.6/dist-packages/pandas/core/indexing.py:357: SettingWithCopyWarning: \n",
            "A value is trying to be set on a copy of a slice from a DataFrame.\n",
            "Try using .loc[row_indexer,col_indexer] = value instead\n",
            "\n",
            "See the caveats in the documentation: http://pandas.pydata.org/pandas-docs/stable/indexing.html#indexing-view-versus-copy\n",
            "  self.obj[key] = _infer_fill_value(value)\n",
            "/usr/local/lib/python3.6/dist-packages/pandas/core/indexing.py:537: SettingWithCopyWarning: \n",
            "A value is trying to be set on a copy of a slice from a DataFrame.\n",
            "Try using .loc[row_indexer,col_indexer] = value instead\n",
            "\n",
            "See the caveats in the documentation: http://pandas.pydata.org/pandas-docs/stable/indexing.html#indexing-view-versus-copy\n",
            "  self.obj[item] = s\n"
          ],
          "name": "stderr"
        }
      ]
    },
    {
      "metadata": {
        "id": "NpKHtTbtBICr",
        "colab_type": "code",
        "colab": {
          "base_uri": "https://localhost:8080/",
          "height": 530
        },
        "outputId": "433482e4-f334-404f-c6a4-ffa58887fc70"
      },
      "cell_type": "code",
      "source": [
        "# SexuponOutcome - increace the feature definition\n",
        "full_data['SexuponOutcome'] = full_data['SexuponOutcome'].fillna(full_data['SexuponOutcome'].mode()[0])\n",
        "full_data['Sex'] = full_data['SexuponOutcome'].map({'Intact Female':0,'Spayed Female':0,'Intact Male':1,'Neutered Male':1,'Unknown':2})\n",
        "full_data['IsIntact'] = full_data['SexuponOutcome'].map({'Intact Female':0,'Intact Male':0, 'Neutered Male':1,'Spayed Female':1,'Unknown':2})\n",
        "full_data[['SexuponOutcome','Sex','IsIntact']].head()"
      ],
      "execution_count": 34,
      "outputs": [
        {
          "output_type": "stream",
          "text": [
            "/usr/local/lib/python3.6/dist-packages/ipykernel_launcher.py:1: SettingWithCopyWarning: \n",
            "A value is trying to be set on a copy of a slice from a DataFrame.\n",
            "Try using .loc[row_indexer,col_indexer] = value instead\n",
            "\n",
            "See the caveats in the documentation: http://pandas.pydata.org/pandas-docs/stable/indexing.html#indexing-view-versus-copy\n",
            "  \"\"\"Entry point for launching an IPython kernel.\n",
            "/usr/local/lib/python3.6/dist-packages/ipykernel_launcher.py:2: SettingWithCopyWarning: \n",
            "A value is trying to be set on a copy of a slice from a DataFrame.\n",
            "Try using .loc[row_indexer,col_indexer] = value instead\n",
            "\n",
            "See the caveats in the documentation: http://pandas.pydata.org/pandas-docs/stable/indexing.html#indexing-view-versus-copy\n",
            "  \n",
            "/usr/local/lib/python3.6/dist-packages/ipykernel_launcher.py:3: SettingWithCopyWarning: \n",
            "A value is trying to be set on a copy of a slice from a DataFrame.\n",
            "Try using .loc[row_indexer,col_indexer] = value instead\n",
            "\n",
            "See the caveats in the documentation: http://pandas.pydata.org/pandas-docs/stable/indexing.html#indexing-view-versus-copy\n",
            "  This is separate from the ipykernel package so we can avoid doing imports until\n"
          ],
          "name": "stderr"
        },
        {
          "output_type": "execute_result",
          "data": {
            "text/html": [
              "<div>\n",
              "<style scoped>\n",
              "    .dataframe tbody tr th:only-of-type {\n",
              "        vertical-align: middle;\n",
              "    }\n",
              "\n",
              "    .dataframe tbody tr th {\n",
              "        vertical-align: top;\n",
              "    }\n",
              "\n",
              "    .dataframe thead th {\n",
              "        text-align: right;\n",
              "    }\n",
              "</style>\n",
              "<table border=\"1\" class=\"dataframe\">\n",
              "  <thead>\n",
              "    <tr style=\"text-align: right;\">\n",
              "      <th></th>\n",
              "      <th>SexuponOutcome</th>\n",
              "      <th>Sex</th>\n",
              "      <th>IsIntact</th>\n",
              "    </tr>\n",
              "  </thead>\n",
              "  <tbody>\n",
              "    <tr>\n",
              "      <th>3</th>\n",
              "      <td>Intact Male</td>\n",
              "      <td>1</td>\n",
              "      <td>0</td>\n",
              "    </tr>\n",
              "    <tr>\n",
              "      <th>4</th>\n",
              "      <td>Neutered Male</td>\n",
              "      <td>1</td>\n",
              "      <td>1</td>\n",
              "    </tr>\n",
              "    <tr>\n",
              "      <th>7</th>\n",
              "      <td>Unknown</td>\n",
              "      <td>2</td>\n",
              "      <td>2</td>\n",
              "    </tr>\n",
              "    <tr>\n",
              "      <th>9</th>\n",
              "      <td>Spayed Female</td>\n",
              "      <td>0</td>\n",
              "      <td>1</td>\n",
              "    </tr>\n",
              "    <tr>\n",
              "      <th>10</th>\n",
              "      <td>Unknown</td>\n",
              "      <td>2</td>\n",
              "      <td>2</td>\n",
              "    </tr>\n",
              "  </tbody>\n",
              "</table>\n",
              "</div>"
            ],
            "text/plain": [
              "   SexuponOutcome  Sex  IsIntact\n",
              "3     Intact Male    1         0\n",
              "4   Neutered Male    1         1\n",
              "7         Unknown    2         2\n",
              "9   Spayed Female    0         1\n",
              "10        Unknown    2         2"
            ]
          },
          "metadata": {
            "tags": []
          },
          "execution_count": 34
        }
      ]
    },
    {
      "metadata": {
        "id": "xGiKEP2RBICu",
        "colab_type": "code",
        "colab": {
          "base_uri": "https://localhost:8080/",
          "height": 71
        },
        "outputId": "19b369c2-1a2c-451e-c645-b3f039d01ae8"
      },
      "cell_type": "code",
      "source": [
        "#splite the files test and train again\n",
        "\n",
        "X_test_general_1 =  full_data[full_data['OutcomeType']==''] \n",
        "X_train_general_1 = full_data[full_data['OutcomeType']!='']\n",
        "\n",
        "#create the Target for train\n",
        "X_train_1 = X_train_general_1.drop('OutcomeType', axis = 1)\n",
        "X_test_1 = X_test_general_1.drop('OutcomeType', axis = 1)\n",
        "y_train_1 = X_train_general_1.OutcomeType\n",
        "\n",
        "\n",
        "#create file for the frist cheking\n",
        "X_train_1, X_test_1, y_train_1, y_test_1 = train_test_split(X_train_1,y_train_1,train_size=0.7, random_state=451816)\n"
      ],
      "execution_count": 35,
      "outputs": [
        {
          "output_type": "stream",
          "text": [
            "/usr/local/lib/python3.6/dist-packages/sklearn/model_selection/_split.py:2026: FutureWarning: From version 0.21, test_size will always complement train_size unless both are specified.\n",
            "  FutureWarning)\n"
          ],
          "name": "stderr"
        }
      ]
    },
    {
      "metadata": {
        "id": "0rWO3F_qBICw",
        "colab_type": "code",
        "colab": {}
      },
      "cell_type": "code",
      "source": [
        "# Choose relevant features for start the prediction \n",
        "\n",
        "X_train_1 = X_train_1[['DateTime_intday','AnimalType',\n",
        "                       'SexuponOutcome','Sex','IsIntact',\n",
        "                      'AgeuponOutcome_InYears', 'Gender',\n",
        "                      'AgeCategory','Day_ofWeek','WeekEnd',\n",
        "                      'Holiday','Name_missing','unicolor']]\n",
        "X_test_1 = X_test_1[['DateTime_intday','AnimalType',\n",
        "                       'SexuponOutcome','Sex','IsIntact',\n",
        "                      'AgeuponOutcome_InYears', 'Gender',\n",
        "                      'AgeCategory','Day_ofWeek','WeekEnd',\n",
        "                      'Holiday','Name_missing','unicolor']]\n",
        "\n",
        "X_train_dm_1= pd.get_dummies(X_train_1)\n",
        "X_test_dm_1= pd.get_dummies(X_test_1)\n",
        "\n",
        "# X_train.head(2)\n",
        "# X_test.head(2)\n",
        "# X_train_dm.head(2)\n",
        "# y_train.head(2)"
      ],
      "execution_count": 0,
      "outputs": []
    },
    {
      "metadata": {
        "id": "HnoS7g3dBIC6",
        "colab_type": "code",
        "colab": {
          "base_uri": "https://localhost:8080/",
          "height": 54
        },
        "outputId": "ce7014ae-bf95-445f-c574-049178fe952e"
      },
      "cell_type": "code",
      "source": [
        "#fit the model (X_train_dm,y_train )\n",
        "shelter_dt_1 = DecisionTreeClassifier(max_depth=5).fit(X_train_dm_1, y_train_1)\n",
        "# Assess the model\n",
        "cm = confusion_matrix(y_true=y_train_1,\n",
        "                      y_pred=shelter_dt_1.predict(X_train_dm_1))\n",
        "#Accuracy\n",
        "print('Accuracy with more features',accuracy_score(y_true=y_train,\n",
        "                      y_pred=shelter_dt_1.predict(X_train_dm_1)))\n"
      ],
      "execution_count": 37,
      "outputs": [
        {
          "output_type": "stream",
          "text": [
            "Accuracy with more features 0.8061813442561907\n"
          ],
          "name": "stdout"
        }
      ]
    },
    {
      "metadata": {
        "id": "UFf_gu2fBIC_",
        "colab_type": "code",
        "colab": {
          "base_uri": "https://localhost:8080/",
          "height": 54
        },
        "outputId": "6629dd19-c1b3-4d87-faaa-15064bd83cd2"
      },
      "cell_type": "code",
      "source": [
        "# Try to keep improving the data\n",
        "from sklearn.preprocessing import StandardScaler, MaxAbsScaler\n",
        "from sklearn.pipeline import Pipeline\n",
        "from sklearn.decomposition import PCA\n",
        "from sklearn.ensemble import RandomForestClassifier\n",
        "\n",
        "steps = [ ('scale', StandardScaler()), ('reduce_dim', PCA(2)), ('clf', RandomForestClassifier()) ]\n",
        "pipe = Pipeline(steps)\n",
        "\n",
        "pipe.fit(X_train_dm_1, y_train_1)\n",
        "train_pred = pipe.predict(X_train_dm_1)\n",
        "print('Accuracy with Pipeline Steps', accuracy_score(train_pred, y_train_1))\n"
      ],
      "execution_count": 38,
      "outputs": [
        {
          "output_type": "stream",
          "text": [
            "Accuracy with Pipeline Steps 0.8460249487991063\n"
          ],
          "name": "stdout"
        }
      ]
    },
    {
      "metadata": {
        "id": "xSl6WmWFBIDF",
        "colab_type": "code",
        "colab": {
          "base_uri": "https://localhost:8080/",
          "height": 54
        },
        "outputId": "52c50984-17e7-4229-d11c-cfab6758a7a5"
      },
      "cell_type": "code",
      "source": [
        "#Validating the model :\n",
        "\n",
        "# pipe.fit(X_train_dm_1, y_train_1)\n",
        "train_pred = pipe.predict(X_test_dm_1)\n",
        "accuracy_score(train_pred, y_test_1)\n",
        "\n"
      ],
      "execution_count": 39,
      "outputs": [
        {
          "output_type": "execute_result",
          "data": {
            "text/plain": [
              "0.7602085143353605"
            ]
          },
          "metadata": {
            "tags": []
          },
          "execution_count": 39
        }
      ]
    },
    {
      "metadata": {
        "id": "Xrb9MhBmBIDN",
        "colab_type": "code",
        "colab": {
          "base_uri": "https://localhost:8080/",
          "height": 190
        },
        "outputId": "4ad56809-b8da-472d-88ee-f41c52bba0e6"
      },
      "cell_type": "code",
      "source": [
        "# classifiers \n",
        "\n",
        "from sklearn.linear_model import LogisticRegression\n",
        "from sklearn.svm import SVC\n",
        "\n",
        "clf1 = LogisticRegression()\n",
        "clf2 = RandomForestClassifier()\n",
        "clf3 = SVC()\n",
        "\n",
        "classifiers = [('LR', clf1), ('DT', clf2), ('SVM', clf3)]\n",
        "\n",
        "results = y_train_1.to_frame()\n",
        "for clf_name, clf in classifiers:\n",
        "    clf.fit(X_train_dm_1, y_train_1)\n",
        "    results[clf_name] = clf.predict(X_train_dm_1)\n",
        "    print(\"{:3} classifier:\\n \\\n",
        "        \\ttrain accuracy: {:.2f}\\n \\\n",
        "        \\ttest accuracy: {:.2f}\"\\\n",
        "        .format(clf_name, \n",
        "                clf.score(X_train_dm_1, y_train_1), \n",
        "                clf.score(X_test_dm_1, y_test_1)))\n",
        "\n",
        "  "
      ],
      "execution_count": 40,
      "outputs": [
        {
          "output_type": "stream",
          "text": [
            "LR  classifier:\n",
            "         \ttrain accuracy: 0.79\n",
            "         \ttest accuracy: 0.79\n",
            "DT  classifier:\n",
            "         \ttrain accuracy: 0.85\n",
            "         \ttest accuracy: 0.77\n",
            "SVM classifier:\n",
            "         \ttrain accuracy: 0.80\n",
            "         \ttest accuracy: 0.80\n"
          ],
          "name": "stdout"
        }
      ]
    },
    {
      "metadata": {
        "id": "pobLYRacBIDW",
        "colab_type": "code",
        "colab": {
          "base_uri": "https://localhost:8080/",
          "height": 105
        },
        "outputId": "b5e9494c-ff8f-4e76-ba1d-70a7d046cf58"
      },
      "cell_type": "code",
      "source": [
        "#checking for overfit\n",
        "from sklearn.model_selection import cross_val_score\n",
        "\n",
        "# steps = [('scale', StandardScaler()), ('reduce_dim', PCA()),('clf', RandomForestClassifier())]\n",
        "# pipe = Pipeline(steps)\n",
        "\n",
        "for n in range (1,5):\n",
        "  pipe.set_params(reduce_dim__n_components = n)\n",
        "  scores = cross_val_score(pipe,X_train_dm_1, y_train_1,cv=5)\n",
        "    \n",
        "print(f'{n} components')\n",
        "print(f'mean: {scores.mean()}')\n",
        "print(f'std: {scores.std()}\\n')"
      ],
      "execution_count": 41,
      "outputs": [
        {
          "output_type": "stream",
          "text": [
            "4 components\n",
            "mean: 0.7661570552331443\n",
            "std: 0.006240019226684191\n",
            "\n"
          ],
          "name": "stdout"
        }
      ]
    },
    {
      "metadata": {
        "id": "XTr5g7K1BIDc",
        "colab_type": "text"
      },
      "cell_type": "markdown",
      "source": [
        "# Conclussion : \n",
        "\n",
        "RandomForestClassifier will give us the best accuracy in order to predic what will be the OutcomeType:\n",
        "    \n",
        "            train accuracy: 0.85\n",
        "         \ttest accuracy: 0.77"
      ]
    },
    {
      "metadata": {
        "id": "9WsomokQBY_T",
        "colab_type": "text"
      },
      "cell_type": "markdown",
      "source": [
        "# More ....\n",
        "  Feature Selection with DF"
      ]
    },
    {
      "metadata": {
        "id": "VwdQu7exBIDd",
        "colab_type": "code",
        "colab": {
          "base_uri": "https://localhost:8080/",
          "height": 544
        },
        "outputId": "3cc0245f-995c-473a-d000-1eccb712cca0"
      },
      "cell_type": "code",
      "source": [
        "# Feature Selection\n",
        "\n",
        "\n",
        "pd.Series(shelter_dt_1.feature_importances_ ,index = X_train_dm_1.columns).sort_values(ascending=False)\n",
        "\n",
        "\n"
      ],
      "execution_count": 45,
      "outputs": [
        {
          "output_type": "execute_result",
          "data": {
            "text/plain": [
              "IsIntact                        0.689667\n",
              "AgeuponOutcome_InYears          0.240816\n",
              "AnimalType_Dog                  0.051253\n",
              "AgeCategory_Senior              0.007850\n",
              "Sex                             0.004481\n",
              "SexuponOutcome_Intact Female    0.002041\n",
              "Day_ofWeek_Saturday             0.001048\n",
              "WeekEnd_NoWeekend               0.001045\n",
              "Day_ofWeek_Tuesday              0.000914\n",
              "Day_ofWeek_Sunday               0.000885\n",
              "WeekEnd_Weekend                 0.000000\n",
              "AnimalType_Cat                  0.000000\n",
              "Holiday                         0.000000\n",
              "unicolor                        0.000000\n",
              "Name_missing                    0.000000\n",
              "SexuponOutcome_Neutered Male    0.000000\n",
              "SexuponOutcome_Intact Male      0.000000\n",
              "Gender_Female                   0.000000\n",
              "SexuponOutcome_Spayed Female    0.000000\n",
              "SexuponOutcome_Unknown          0.000000\n",
              "Gender_Male                     0.000000\n",
              "Gender_unknow                   0.000000\n",
              "AgeCategory_Adolescence         0.000000\n",
              "AgeCategory_Adulthood           0.000000\n",
              "AgeCategory_NewBorn             0.000000\n",
              "Day_ofWeek_Friday               0.000000\n",
              "Day_ofWeek_Monday               0.000000\n",
              "Day_ofWeek_Thursday             0.000000\n",
              "Day_ofWeek_Wednesday            0.000000\n",
              "DateTime_intday                 0.000000\n",
              "dtype: float64"
            ]
          },
          "metadata": {
            "tags": []
          },
          "execution_count": 45
        }
      ]
    },
    {
      "metadata": {
        "id": "ue1ACfr7BT_g",
        "colab_type": "code",
        "colab": {
          "base_uri": "https://localhost:8080/",
          "height": 265
        },
        "outputId": "f3401887-9f26-4578-ee13-d9b541eb871e"
      },
      "cell_type": "code",
      "source": [
        "pd.Series(shelter_dt_1.feature_importances_ ,index = X_train_dm_1.columns).sort_values(ascending=False).plot(legend = True)"
      ],
      "execution_count": 43,
      "outputs": [
        {
          "output_type": "execute_result",
          "data": {
            "text/plain": [
              "<matplotlib.axes._subplots.AxesSubplot at 0x7f7a13cc9da0>"
            ]
          },
          "metadata": {
            "tags": []
          },
          "execution_count": 43
        },
        {
          "output_type": "display_data",
          "data": {
            "image/png": "[encoded data removed]",
            "text/plain": [
              "<matplotlib.figure.Figure at 0x7f7a13c690b8>"
            ]
          },
          "metadata": {
            "tags": []
          }
        }
      ]
    }
  ]
}