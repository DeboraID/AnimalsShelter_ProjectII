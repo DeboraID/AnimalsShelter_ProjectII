{
 "cells": [
  {
   "cell_type": "code",
   "execution_count": 116,
   "metadata": {},
   "outputs": [],
   "source": [
    "import pandas as pd\n",
    "import numpy as np\n",
    "import seaborn as sns\n",
    "import matplotlib.pyplot as plt\n",
    "from datetime import datetime\n",
    "%matplotlib inline"
   ]
  },
  {
   "cell_type": "markdown",
   "metadata": {},
   "source": [
    "## Shelter Animal Outcomes ##\n",
    "\n",
    "* Get the data\n",
    "* Apply **pre-processing** steps if necessary\n",
    "    * data-related (e.g. filtering,  scaling, imputing, encoding, etc.)\n",
    "    * model-related (e.g. scoring, dimensionality reduction, feature extraction, etc.)\n",
    "* Data Analizis and Visualization \n",
    "* Choose a **model**\n",
    "    * Apply the **_fit()_** method to \"create\" the model\n",
    "    * Apply the **_predict()_** and/or **_transform()_** methods to \"use\" the model\n",
    "    * Apply the **_score()_** method to \"estimate\" the result\n"
   ]
  },
  {
   "cell_type": "markdown",
   "metadata": {},
   "source": [
    "*** Get the data ***"
   ]
  },
  {
   "cell_type": "code",
   "execution_count": 19,
   "metadata": {},
   "outputs": [
    {
     "name": "stdout",
     "output_type": "stream",
     "text": [
      "<class 'pandas.core.frame.DataFrame'>\n",
      "Int64Index: 38185 entries, 0 to 11455\n",
      "Data columns (total 8 columns):\n",
      "AgeuponOutcome    38161 non-null object\n",
      "AnimalType        38185 non-null object\n",
      "Breed             38185 non-null object\n",
      "Color             38185 non-null object\n",
      "DateTime          38185 non-null datetime64[ns]\n",
      "Name              27269 non-null object\n",
      "OutcomeType       38185 non-null object\n",
      "SexuponOutcome    38184 non-null object\n",
      "dtypes: datetime64[ns](1), object(7)\n",
      "memory usage: 2.6+ MB\n"
     ]
    }
   ],
   "source": [
    "train_df =  pd.read_csv('train.csv', parse_dates=['DateTime'])\n",
    "test_df =  pd.read_csv('test.csv', parse_dates=['DateTime'])\n",
    "test_df['OutcomeType'] = ''\n",
    "\n",
    "train_df = train_df.drop(['AnimalID','OutcomeSubtype'] , axis=1)\n",
    "test_df = test_df.drop('ID', axis=1)\n",
    "\n",
    "full_data = pd.concat([train_df, test_df], axis=0, sort=True)\n",
    "full_data.info()\n",
    "del train_df , test_df"
   ]
  },
  {
   "cell_type": "code",
   "execution_count": 20,
   "metadata": {},
   "outputs": [
    {
     "data": {
      "text/plain": [
       "<matplotlib.axes._subplots.AxesSubplot at 0x2d76ce8c278>"
      ]
     },
     "execution_count": 20,
     "metadata": {},
     "output_type": "execute_result"
    },
    {
     "data": {
      "image/png": "[encoded data removed]",
      "text/plain": [
       "<matplotlib.figure.Figure at 0x2d76c40ec88>"
      ]
     },
     "metadata": {},
     "output_type": "display_data"
    }
   ],
   "source": [
    "#check population of cat and dog balance\n",
    "bal_population = full_data.groupby('AnimalType')['DateTime'].count()\n",
    "bal_population.plot.bar()"
   ]
  },
  {
   "cell_type": "markdown",
   "metadata": {},
   "source": [
    "*** Preprocess the data ***"
   ]
  },
  {
   "cell_type": "code",
   "execution_count": 21,
   "metadata": {},
   "outputs": [
    {
     "name": "stdout",
     "output_type": "stream",
     "text": [
      "Missing data per column\n",
      " AgeuponOutcome       24\n",
      "AnimalType            0\n",
      "Breed                 0\n",
      "Color                 0\n",
      "DateTime              0\n",
      "Name              10916\n",
      "OutcomeType           0\n",
      "SexuponOutcome        1\n",
      "dtype: int64\n"
     ]
    }
   ],
   "source": [
    "# Check Missing Data:\n",
    "def num_missing(x):\n",
    "    \n",
    "    return sum(x.isnull())\n",
    "\n",
    "#Applying per column:\n",
    "\n",
    "print ('Missing data per column\\n', full_data.apply(num_missing, axis=0)) #axis=0 defines that function is to be applied on each column)\n",
    "\n",
    "#Applying per row:\n",
    "# \"'if are there rows with a lot of missing data they should be pulled out of the calculation (althogu in this case the most important columns haven't empty data )'\"\n",
    "\n",
    "# print ('Missing data per row',df_shelter.apply(num_missing, axis=1).sort_values(ascending=False)) #axis=1 defines that function is to be applied on each row)"
   ]
  },
  {
   "cell_type": "code",
   "execution_count": 22,
   "metadata": {},
   "outputs": [],
   "source": [
    "#clean empty rows (rows without Datatime, AnimalType and Age aren't usefull)\n",
    "mask = ~full_data['DateTime'].isna() & ~full_data['AnimalType'].isna()& ~full_data['AgeuponOutcome'].isna()\n",
    "#full_data.loc[mask == False]\n",
    "# print(full_data.shape)\n",
    "full_data = full_data.loc[mask, :]\n",
    "# print(full_data.shape)"
   ]
  },
  {
   "cell_type": "code",
   "execution_count": 23,
   "metadata": {},
   "outputs": [],
   "source": [
    "# #another way to check rows with empty values \n",
    "# def count_missing(vec):\n",
    "#     \"\"\"counts the number of missing values in a vector\n",
    "#     \"\"\"\n",
    "#     null_vec = pd.isnull(vec) # vector of True/False\n",
    "#     null_count = np.sum(null_vec) # True has a value of 1\n",
    "#     return null_count\n",
    "\n",
    "# df_shelter.apply(count_missing, axis=1).value_counts()"
   ]
  },
  {
   "cell_type": "markdown",
   "metadata": {},
   "source": [
    "*** Data preparation ***"
   ]
  },
  {
   "cell_type": "markdown",
   "metadata": {},
   "source": [
    "* Data Standartization \n",
    "    * Age of the animal"
   ]
  },
  {
   "cell_type": "code",
   "execution_count": 24,
   "metadata": {},
   "outputs": [
    {
     "data": {
      "text/plain": [
       "array(['1 year', '2 years', '3 weeks', '1 month', '5 months', '4 years',\n",
       "       '3 months', '2 weeks', '2 months', '10 months', '6 months',\n",
       "       '5 years', '7 years', '3 years', '4 months', '12 years', '9 years',\n",
       "       '6 years', '1 weeks', '11 years', '4 weeks', '7 months', '8 years',\n",
       "       '11 months', '4 days', '9 months', '8 months', '15 years',\n",
       "       '10 years', '1 week', '0 years', '14 years', '3 days', '6 days',\n",
       "       '5 days', '5 weeks', '2 days', '16 years', '1 day', '13 years',\n",
       "       '17 years', '18 years', '19 years', '20 years', '22 years'],\n",
       "      dtype=object)"
      ]
     },
     "execution_count": 24,
     "metadata": {},
     "output_type": "execute_result"
    }
   ],
   "source": [
    "#step 1\n",
    "full_data['AgeuponOutcome'].unique() # how do i sorted values here?.sort()"
   ]
  },
  {
   "cell_type": "code",
   "execution_count": 25,
   "metadata": {},
   "outputs": [],
   "source": [
    "# step 2 & 3\n",
    "# Calculating the total animal's age:\n",
    "full_data['AgeuponOutcome_Time']= full_data['AgeuponOutcome'].str.split(' ').str.get(1) #split the data \n",
    "full_data['AgeuponOutcome_Time']=full_data['AgeuponOutcome_Time'].replace( ['year', 'years', 'week', 'weeks', 'month','months', 'days','day'], \n",
    "                                                                [365, 365, 7, 7,30.5, 30.5, 1,1]) #replace by the total days \n",
    "#fill the empty values in order to be able to do math calculations\n",
    "full_data['AgeuponOutcome_Time'] = full_data['AgeuponOutcome_Time'].fillna(0).astype(float)\n",
    "\n",
    "#transform the age data to numbers that we can manipulate with math tecniques\n",
    "full_data['AgeuponOutcome_Age']= full_data['AgeuponOutcome'].str.split(' ').str.get(0).fillna(0).astype(float)\n",
    "\n",
    "#calculate the age in days \n",
    "full_data['AgeuponOutcome_InDays']= full_data['AgeuponOutcome_Age']* full_data['AgeuponOutcome_Time']\n",
    "\n",
    "#calculate the age in years\n",
    "full_data['AgeuponOutcome_InYears']= full_data['AgeuponOutcome_InDays']/365\n",
    "\n"
   ]
  },
  {
   "cell_type": "code",
   "execution_count": 26,
   "metadata": {},
   "outputs": [],
   "source": [
    "#split the gender of  the animal \n",
    "def General_gender(x):\n",
    "    if x == 'Female':\n",
    "        return 'Female'\n",
    "    elif x == 'Male':\n",
    "        return 'Male'\n",
    "    else:\n",
    "        return 'unknow'\n",
    "    \n",
    "full_data['Gender']= full_data['SexuponOutcome'].str.split(' ').str.get(1) #separate general gender\n",
    "full_data['Gender'] = full_data.Gender.apply(General_gender) \n",
    "\n",
    "# data.loc[data.Gender == 'unknow'].count()\n",
    "# data.loc[data.Gender.isnull()].count()\n"
   ]
  },
  {
   "cell_type": "markdown",
   "metadata": {},
   "source": [
    "*** Data analizis***"
   ]
  },
  {
   "cell_type": "markdown",
   "metadata": {},
   "source": [
    "Dogs vs cats -- Segmentation Age's "
   ]
  },
  {
   "cell_type": "code",
   "execution_count": 73,
   "metadata": {},
   "outputs": [
    {
     "data": {
      "text/plain": [
       "<matplotlib.axes._subplots.AxesSubplot at 0x2d76c9eee80>"
      ]
     },
     "execution_count": 73,
     "metadata": {},
     "output_type": "execute_result"
    },
    {
     "data": {
      "image/png": "[encoded data removed]",
      "text/plain": [
       "<matplotlib.figure.Figure at 0x2d76c98a908>"
      ]
     },
     "metadata": {},
     "output_type": "display_data"
    }
   ],
   "source": [
    "from numpy import where  #why do i need to import \"where \"again?\n",
    "\n",
    "Ages = full_data.groupby(['AnimalType','AgeuponOutcome_InYears'])['AgeuponOutcome_InYears'].count().reset_index(name='Qty')\n",
    "a_min, a_max = 0, 3000\n",
    "y_min, y_max = 0, 20\n",
    "Ages.plot('Qty', 'AgeuponOutcome_InYears', kind='scatter',\n",
    "          xlim=[a_min, a_max], ylim=[y_min, y_max],\n",
    "          c=where(full_data.AnimalType =='Dog', 'blue', 'green'),legend = True, \n",
    "          label = 'Dog' , s=50)"
   ]
  },
  {
   "cell_type": "markdown",
   "metadata": {},
   "source": [
    "The scattered distribution of animals in ages does not tell us much, except that in both cases the most common age of and specific outcome reason in the shelters is around the first two years of life."
   ]
  },
  {
   "cell_type": "markdown",
   "metadata": {},
   "source": [
    "In order to be able to study more deep the data, \n",
    "I will create groups of ages based on the following links:\n",
    "for cat category :\n",
    "https://www.google.co.il/search?q=stages+of+age+dogs&source=lnms&tbm=isch&sa=X&ved=0ahUKEwiA3IuE0NXbAhWHK8AKHXbNDf0Q_AUICigB&biw=1366&bih=635#imgrc=eQu8yLrz9XWLRM:\n",
    "for dog's category : \n",
    "https://www.google.co.il/search?q=stages+of+age+dogs&source=lnms&tbm=isch&sa=X&ved=0ahUKEwiA3IuE0NXbAhWHK8AKHXbNDf0Q_AUICigB&biw=1366&bih=635#imgrc=womRL2LDYl5SOM:'''\n",
    "More or less they have the same stages :"
   ]
  },
  {
   "cell_type": "code",
   "execution_count": 29,
   "metadata": {},
   "outputs": [
    {
     "data": {
      "text/plain": [
       "<seaborn.axisgrid.FacetGrid at 0x2d76d823048>"
      ]
     },
     "execution_count": 29,
     "metadata": {},
     "output_type": "execute_result"
    },
    {
     "data": {
      "image/png": "[encoded data removed]",
      "text/plain": [
       "<matplotlib.figure.Figure at 0x2d76d8237f0>"
      ]
     },
     "metadata": {},
     "output_type": "display_data"
    }
   ],
   "source": [
    "def CategoryAge(x):\n",
    "    if x <= 1.5:\n",
    "        return 'NewBorn'\n",
    "    elif 1.5 < x <= 3 :\n",
    "        return 'Adolescence'\n",
    "    elif 3 < x <= 7 :\n",
    "        return 'Adulthood '\n",
    "    else:\n",
    "        return 'Senior'\n",
    "    \n",
    "full_data['AgeCategory'] = full_data.AgeuponOutcome_InYears.apply(CategoryAge)\n",
    "sns.factorplot(x=\"AnimalType\", hue=\"AgeCategory\", data=full_data, kind=\"count\",\n",
    "                    size=4, aspect=.7)\n"
   ]
  },
  {
   "cell_type": "code",
   "execution_count": 30,
   "metadata": {},
   "outputs": [],
   "source": [
    "#Drill down into each Animaltype and current OutcomeType\n",
    "\n",
    "dogs = full_data.loc[(full_data['AnimalType']=='Dog' )]\n",
    "cats = full_data.loc[(full_data['AnimalType']=='Cat')]"
   ]
  },
  {
   "cell_type": "code",
   "execution_count": 31,
   "metadata": {},
   "outputs": [
    {
     "data": {
      "text/plain": [
       "<seaborn.axisgrid.FacetGrid at 0x2d76be03a90>"
      ]
     },
     "execution_count": 31,
     "metadata": {},
     "output_type": "execute_result"
    },
    {
     "data": {
      "image/png": "[encoded data removed]",
      "text/plain": [
       "<matplotlib.figure.Figure at 0x2d76cc2e438>"
      ]
     },
     "metadata": {},
     "output_type": "display_data"
    }
   ],
   "source": [
    "#Check the segmentation of the cases based on all dog's data, \n",
    "#AgeCategory and OutcomeType\n",
    "\n",
    "sns.factorplot(x=\"OutcomeType\", hue=\"AgeCategory\", data=dogs, kind=\"count\",\n",
    "                    size=10, aspect=.7)\n"
   ]
  },
  {
   "cell_type": "code",
   "execution_count": 32,
   "metadata": {},
   "outputs": [
    {
     "data": {
      "text/plain": [
       "<seaborn.axisgrid.FacetGrid at 0x2d76c93dc50>"
      ]
     },
     "execution_count": 32,
     "metadata": {},
     "output_type": "execute_result"
    },
    {
     "data": {
      "image/png": "[encoded data removed]",
      "text/plain": [
       "<matplotlib.figure.Figure at 0x2d76c9346d8>"
      ]
     },
     "metadata": {},
     "output_type": "display_data"
    }
   ],
   "source": [
    "#Check the segmentation of the cases based on all cat's data, \n",
    "#AgeCategory and OutcomeType\n",
    "\n",
    "sns.factorplot(x=\"OutcomeType\", hue=\"AgeCategory\", data=cats, kind=\"count\",\n",
    "                    size=10, aspect=.7)"
   ]
  },
  {
   "cell_type": "markdown",
   "metadata": {},
   "source": [
    "Conclusions: \n",
    "\n",
    "* The most common age for those animals in the shelters are during their first two years of live. \n",
    "\n",
    "* More dogs are outcoming to shelters due to 'return_to_owner' than cats, and it happend the most during the 'Adolescence' period, although that aren't a big differentces between the rest of the age's categories."
   ]
  },
  {
   "cell_type": "markdown",
   "metadata": {},
   "source": [
    "*** Dates and Time Analizis***"
   ]
  },
  {
   "cell_type": "code",
   "execution_count": 33,
   "metadata": {},
   "outputs": [],
   "source": [
    "full_data['Day_ofWeek'] = full_data['DateTime'].dt.weekday_name\n",
    " \n",
    "def WeekEnd(x):\n",
    "    if x in ('Saturday', 'Sunday'):\n",
    "        return 'Weekend'\n",
    "    else:\n",
    "        return 'NoWeekend'\n",
    "    \n",
    "full_data['WeekEnd'] = full_data.Day_ofWeek.apply(WeekEnd)\n"
   ]
  },
  {
   "cell_type": "code",
   "execution_count": 34,
   "metadata": {},
   "outputs": [
    {
     "data": {
      "text/plain": [
       "<seaborn.axisgrid.FacetGrid at 0x2d76c8d75f8>"
      ]
     },
     "execution_count": 34,
     "metadata": {},
     "output_type": "execute_result"
    },
    {
     "data": {
      "image/png": "[encoded data removed]",
      "text/plain": [
       "<matplotlib.figure.Figure at 0x2d76c8d79b0>"
      ]
     },
     "metadata": {},
     "output_type": "display_data"
    }
   ],
   "source": [
    "sns.factorplot(x=\"AgeCategory\", hue=\"WeekEnd\", data=full_data, kind=\"count\",\n",
    "                    size=10, aspect=.7)"
   ]
  },
  {
   "cell_type": "markdown",
   "metadata": {},
   "source": [
    "**Conclusion:** \n",
    "Animal are outcoming dirug the week and not during the weekends.  "
   ]
  },
  {
   "cell_type": "markdown",
   "metadata": {},
   "source": [
    "***Seasonality - *** stablish a rule for those animals that are beeing returned . \n",
    "\n",
    "**Are the season a parameter to take into account?**"
   ]
  },
  {
   "cell_type": "code",
   "execution_count": 35,
   "metadata": {},
   "outputs": [],
   "source": [
    "from pandas.tseries.holiday import USFederalHolidayCalendar as calendar\n",
    "cal = calendar()\n",
    "dr = full_data.DateTime\n",
    "holidays = cal.holidays(start=dr.min(), end=dr.max())\n",
    "full_data['Holiday'] = full_data['DateTime'].isin(holidays)\n"
   ]
  },
  {
   "cell_type": "code",
   "execution_count": 36,
   "metadata": {},
   "outputs": [
    {
     "data": {
      "text/plain": [
       "Holiday\n",
       "False    38138\n",
       "True        23\n",
       "Name: DateTime, dtype: int64"
      ]
     },
     "execution_count": 36,
     "metadata": {},
     "output_type": "execute_result"
    }
   ],
   "source": [
    "# Check status\n",
    "full_data.groupby(['Holiday'])['DateTime'].count()"
   ]
  },
  {
   "cell_type": "markdown",
   "metadata": {},
   "source": [
    "***Conclusion:*** Most of the pet's are going outthe shelters during non holidays period"
   ]
  },
  {
   "cell_type": "markdown",
   "metadata": {},
   "source": [
    "***Analizis by gender***"
   ]
  },
  {
   "cell_type": "code",
   "execution_count": 37,
   "metadata": {},
   "outputs": [
    {
     "data": {
      "text/plain": [
       "<seaborn.axisgrid.FacetGrid at 0x2d76c99f8d0>"
      ]
     },
     "execution_count": 37,
     "metadata": {},
     "output_type": "execute_result"
    },
    {
     "data": {
      "image/png": "[encoded data removed]",
      "text/plain": [
       "<matplotlib.figure.Figure at 0x2d76c8d7160>"
      ]
     },
     "metadata": {},
     "output_type": "display_data"
    }
   ],
   "source": [
    "sns.factorplot(x=\"AnimalType\", hue=\"Gender\", data=full_data, kind=\"count\",\n",
    "                    size=5, aspect=.7)"
   ]
  },
  {
   "cell_type": "code",
   "execution_count": 38,
   "metadata": {},
   "outputs": [],
   "source": [
    "full_data['Name_missing'] = full_data['Name'].isna()\n",
    "full_data.groupby(['AnimalType'])['Name_missing'].count()\n",
    "full_data = full_data[full_data['Name_missing']==True]\n",
    "# sns.factorplot(x=\"OutcomeType\", hue=\"AnimalType\", data=name_missing, kind=\"count\",\n",
    "#                     size=4, aspect=4)"
   ]
  },
  {
   "cell_type": "markdown",
   "metadata": {},
   "source": [
    "***Conclusion: ***  no conclusion from the last two analizis "
   ]
  },
  {
   "cell_type": "markdown",
   "metadata": {},
   "source": [
    "***Spliting the color and finding more metrics ***"
   ]
  },
  {
   "cell_type": "code",
   "execution_count": 128,
   "metadata": {},
   "outputs": [
    {
     "name": "stderr",
     "output_type": "stream",
     "text": [
      "C:\\Users\\User\\Anaconda3\\lib\\site-packages\\pandas\\core\\indexing.py:543: SettingWithCopyWarning: \n",
      "A value is trying to be set on a copy of a slice from a DataFrame.\n",
      "Try using .loc[row_indexer,col_indexer] = value instead\n",
      "\n",
      "See the caveats in the documentation: http://pandas.pydata.org/pandas-docs/stable/indexing.html#indexing-view-versus-copy\n",
      "  self.obj[item] = s\n"
     ]
    }
   ],
   "source": [
    "#color\n",
    "           \n",
    "full_data.loc[:,['Color1']] = full_data.Color.str.split('/').str.get(1)  \n",
    "full_data.loc[:,['Color2']] =full_data.Color.str.split('/').str.get(2)  \n",
    "full_data.loc[:,['unicolor']] = full_data.Color1.apply(lambda x: 1 if x else 0) \n",
    "\n",
    "# full_data['unicolor'].isna()      "
   ]
  },
  {
   "cell_type": "code",
   "execution_count": 129,
   "metadata": {},
   "outputs": [
    {
     "name": "stderr",
     "output_type": "stream",
     "text": [
      "C:\\Users\\User\\Anaconda3\\lib\\site-packages\\pandas\\core\\indexing.py:543: SettingWithCopyWarning: \n",
      "A value is trying to be set on a copy of a slice from a DataFrame.\n",
      "Try using .loc[row_indexer,col_indexer] = value instead\n",
      "\n",
      "See the caveats in the documentation: http://pandas.pydata.org/pandas-docs/stable/indexing.html#indexing-view-versus-copy\n",
      "  self.obj[item] = s\n"
     ]
    }
   ],
   "source": [
    "#checking if the breed is mix or not\n",
    "def get_mix(x):\n",
    "    x = str(x)\n",
    "    if x.find('Mix') >= 0: return 'mix'\n",
    "    return 'not'\n",
    "full_data.loc[:,['Mix']] = full_data.Breed.apply(get_mix)\n"
   ]
  },
  {
   "cell_type": "markdown",
   "metadata": {},
   "source": [
    "## Machine Lerning\n",
    "***Decision Tree (Outcome)***\n",
    "Start Point"
   ]
  },
  {
   "cell_type": "code",
   "execution_count": 130,
   "metadata": {},
   "outputs": [],
   "source": [
    "# full_data.columns"
   ]
  },
  {
   "cell_type": "code",
   "execution_count": 131,
   "metadata": {},
   "outputs": [
    {
     "name": "stderr",
     "output_type": "stream",
     "text": [
      "C:\\Users\\User\\Anaconda3\\lib\\site-packages\\sklearn\\model_selection\\_split.py:2026: FutureWarning: From version 0.21, test_size will always complement train_size unless both are specified.\n",
      "  FutureWarning)\n"
     ]
    }
   ],
   "source": [
    "from sklearn.model_selection import train_test_split\n",
    "\n",
    "#splite the files test and train again\n",
    "\n",
    "X_test_general =  full_data[full_data['OutcomeType']==''] \n",
    "X_train_general = full_data[full_data['OutcomeType']!='']\n",
    "\n",
    "#create the Target for train\n",
    "X_train = X_train_general.drop('OutcomeType', axis = 1)\n",
    "X_Target = X_test_general.drop('OutcomeType', axis = 1)\n",
    "y_train = X_train_general.OutcomeType\n",
    "\n",
    "#create file for the frist cheking\n",
    "X_train, X_test, y_train, y_test = train_test_split(X_train,y_train,train_size=0.7, random_state=451816)\n",
    "\n"
   ]
  },
  {
   "cell_type": "code",
   "execution_count": 132,
   "metadata": {},
   "outputs": [],
   "source": [
    "# Choose relevant features for start the prediction \n",
    "\n",
    "X_train = X_train[['AnimalType','SexuponOutcome',\n",
    "                      'AgeuponOutcome_InYears', 'Gender',\n",
    "                      'AgeCategory','Day_ofWeek','WeekEnd',\n",
    "                      'Holiday','Name_missing','unicolor']]\n",
    "X_test = X_test[['AnimalType','SexuponOutcome',\n",
    "                      'AgeuponOutcome_InYears', 'Gender',\n",
    "                      'AgeCategory','Day_ofWeek','WeekEnd',\n",
    "                      'Holiday','Name_missing','unicolor']]\n",
    "\n",
    "X_train_dm= pd.get_dummies(X_train)\n",
    "X_test_dm= pd.get_dummies(X_test)\n",
    "\n",
    "# X_train.head(2)\n",
    "# X_test.head(2)\n",
    "# X_train_dm.head(2)\n",
    "# y_train.head(2)"
   ]
  },
  {
   "cell_type": "markdown",
   "metadata": {},
   "source": [
    "***Fit the model***"
   ]
  },
  {
   "cell_type": "code",
   "execution_count": 133,
   "metadata": {},
   "outputs": [],
   "source": [
    "from sklearn.metrics import confusion_matrix, classification_report\n",
    "from sklearn.metrics import accuracy_score\n",
    "from sklearn.tree import DecisionTreeClassifier, export_graphviz\n",
    "\n",
    "#fit the model (X_train_dm,y_train )\n",
    "shelter_dt = DecisionTreeClassifier(max_depth=5).fit(X_train_dm, y_train)\n",
    "# Assess the model\n",
    "cm = confusion_matrix(y_true=y_train,\n",
    "                      y_pred=shelter_dt.predict(X_train_dm))\n",
    "# pd.DataFrame(cm,\n",
    "#              index=shelter_dt.classes_,\n",
    "#              columns=shelter_dt.classes_)"
   ]
  },
  {
   "cell_type": "code",
   "execution_count": 156,
   "metadata": {},
   "outputs": [
    {
     "name": "stdout",
     "output_type": "stream",
     "text": [
      "Accuracy Validation 0.8046918637125302\n"
     ]
    }
   ],
   "source": [
    "#Accuracy\n",
    "print('Accuracy Validation', accuracy_score(y_true=y_train,\n",
    "                      y_pred=shelter_dt.predict(X_train_dm)))"
   ]
  },
  {
   "cell_type": "code",
   "execution_count": 135,
   "metadata": {},
   "outputs": [
    {
     "data": {
      "text/plain": [
       "{'max_dep3': 0.7788121392664308,\n",
       " 'max_dep4': 0.8046918637125302,\n",
       " 'max_dep5': 0.8046918637125302,\n",
       " 'max_dep6': 0.8532861664494508}"
      ]
     },
     "execution_count": 135,
     "metadata": {},
     "output_type": "execute_result"
    }
   ],
   "source": [
    "#improve the accuraccy by max_dep\n",
    "shelter_dt_3 = DecisionTreeClassifier(max_depth=3).fit(X_train_dm, y_train)\n",
    "shelter_dt_5 = DecisionTreeClassifier(max_depth=5).fit(X_train_dm, y_train)\n",
    "shelter_dt_20 = DecisionTreeClassifier(max_depth=20).fit(X_train_dm, y_train)\n",
    "acc_3 = accuracy_score(y_true=y_train,\n",
    "                      y_pred=shelter_dt_3.predict(X_train_dm))\n",
    "acc_4 = accuracy_score(y_true=y_train,\n",
    "                      y_pred=shelter_dt.predict(X_train_dm))\n",
    "acc_5 = accuracy_score(y_true=y_train,\n",
    "                      y_pred=shelter_dt_5.predict(X_train_dm))\n",
    "acc_20 = accuracy_score(y_true=y_train,\n",
    "                      y_pred=shelter_dt_20.predict(X_train_dm))\n",
    "Max_dep_t = ['max_dep3', 'max_dep4','max_dep5', 'max_dep6']\n",
    "Max_dep_r = [acc_3, acc_4, acc_5, acc_20]\n",
    "best_accurracy = dict(zip(Max_dep_t,Max_dep_r))\n",
    "best_accurracy"
   ]
  },
  {
   "cell_type": "code",
   "execution_count": 136,
   "metadata": {},
   "outputs": [],
   "source": [
    "# print(classification_report(y_true=shelter_train.OutcomeType,   \n",
    "#                             y_pred=shelter_dt.predict(X)))"
   ]
  },
  {
   "cell_type": "code",
   "execution_count": 137,
   "metadata": {},
   "outputs": [
    {
     "name": "stdout",
     "output_type": "stream",
     "text": [
      "0.8532861664494508\n",
      "0.764118158123371\n"
     ]
    }
   ],
   "source": [
    "#validating the model\n",
    "clf = DecisionTreeClassifier(max_depth=20)\n",
    "\n",
    "clf.fit(X_train_dm, y_train)\n",
    "print(clf.score(X_train_dm, y_train))\n",
    "print(clf.score(X_test_dm, y_test))\n"
   ]
  },
  {
   "cell_type": "markdown",
   "metadata": {},
   "source": [
    "***Adding features to the analizis in order to obtein better prediction for the animal type***"
   ]
  },
  {
   "cell_type": "code",
   "execution_count": 138,
   "metadata": {},
   "outputs": [
    {
     "name": "stderr",
     "output_type": "stream",
     "text": [
      "C:\\Users\\User\\Anaconda3\\lib\\site-packages\\pandas\\core\\indexing.py:543: SettingWithCopyWarning: \n",
      "A value is trying to be set on a copy of a slice from a DataFrame.\n",
      "Try using .loc[row_indexer,col_indexer] = value instead\n",
      "\n",
      "See the caveats in the documentation: http://pandas.pydata.org/pandas-docs/stable/indexing.html#indexing-view-versus-copy\n",
      "  self.obj[item] = s\n"
     ]
    }
   ],
   "source": [
    "# DateTime (during the day)\n",
    "interval = pd.to_datetime(full_data['DateTime'])-pd.to_datetime('2013-01-01')\n",
    "full_data.loc[:, 'DateTime_day'] = interval /np.timedelta64(1, 'D')\n",
    "interval = ((interval/np.timedelta64(1, 'D'))%1*24)\n",
    "interval[(interval>=0) & (interval)<6] = 0 #'midnight'\n",
    "interval[(interval>=6) & (interval<12)] = 1 #'morning'\n",
    "interval[(interval>=12) & (interval<18)] = 2 #'afternoon'\n",
    "interval[(interval>=18) & (interval<22)] = 3 #'evening'\n",
    "interval[(interval>=22) & (interval<24)] =0 # 'midnight'\n",
    "full_data.loc[:, 'DateTime_intday'] = interval"
   ]
  },
  {
   "cell_type": "code",
   "execution_count": 141,
   "metadata": {},
   "outputs": [
    {
     "name": "stderr",
     "output_type": "stream",
     "text": [
      "C:\\Users\\User\\Anaconda3\\lib\\site-packages\\pandas\\core\\indexing.py:543: SettingWithCopyWarning: \n",
      "A value is trying to be set on a copy of a slice from a DataFrame.\n",
      "Try using .loc[row_indexer,col_indexer] = value instead\n",
      "\n",
      "See the caveats in the documentation: http://pandas.pydata.org/pandas-docs/stable/indexing.html#indexing-view-versus-copy\n",
      "  self.obj[item] = s\n"
     ]
    },
    {
     "data": {
      "text/html": [
       "<div>\n",
       "<style scoped>\n",
       "    .dataframe tbody tr th:only-of-type {\n",
       "        vertical-align: middle;\n",
       "    }\n",
       "\n",
       "    .dataframe tbody tr th {\n",
       "        vertical-align: top;\n",
       "    }\n",
       "\n",
       "    .dataframe thead th {\n",
       "        text-align: right;\n",
       "    }\n",
       "</style>\n",
       "<table border=\"1\" class=\"dataframe\">\n",
       "  <thead>\n",
       "    <tr style=\"text-align: right;\">\n",
       "      <th></th>\n",
       "      <th>SexuponOutcome</th>\n",
       "      <th>Sex</th>\n",
       "      <th>IsIntact</th>\n",
       "    </tr>\n",
       "  </thead>\n",
       "  <tbody>\n",
       "    <tr>\n",
       "      <th>3</th>\n",
       "      <td>Intact Male</td>\n",
       "      <td>1</td>\n",
       "      <td>0</td>\n",
       "    </tr>\n",
       "    <tr>\n",
       "      <th>4</th>\n",
       "      <td>Neutered Male</td>\n",
       "      <td>1</td>\n",
       "      <td>1</td>\n",
       "    </tr>\n",
       "    <tr>\n",
       "      <th>7</th>\n",
       "      <td>Unknown</td>\n",
       "      <td>2</td>\n",
       "      <td>2</td>\n",
       "    </tr>\n",
       "    <tr>\n",
       "      <th>9</th>\n",
       "      <td>Spayed Female</td>\n",
       "      <td>0</td>\n",
       "      <td>1</td>\n",
       "    </tr>\n",
       "    <tr>\n",
       "      <th>10</th>\n",
       "      <td>Unknown</td>\n",
       "      <td>2</td>\n",
       "      <td>2</td>\n",
       "    </tr>\n",
       "  </tbody>\n",
       "</table>\n",
       "</div>"
      ],
      "text/plain": [
       "   SexuponOutcome  Sex  IsIntact\n",
       "3     Intact Male    1         0\n",
       "4   Neutered Male    1         1\n",
       "7         Unknown    2         2\n",
       "9   Spayed Female    0         1\n",
       "10        Unknown    2         2"
      ]
     },
     "execution_count": 141,
     "metadata": {},
     "output_type": "execute_result"
    }
   ],
   "source": [
    "# SexuponOutcome - increace the feature definition\n",
    "full_data.loc[:,['SexuponOutcome']] = full_data['SexuponOutcome'].fillna(full_data['SexuponOutcome'].mode()[0])\n",
    "full_data.loc[:,['Sex']] = full_data['SexuponOutcome'].map({'Intact Female':0,'Spayed Female':0,'Intact Male':1,'Neutered Male':1,'Unknown':2})\n",
    "full_data.loc[:,['IsIntact']] = full_data['SexuponOutcome'].map({'Intact Female':0,'Intact Male':0, 'Neutered Male':1,'Spayed Female':1,'Unknown':2})\n",
    "full_data[['SexuponOutcome','Sex','IsIntact']].head()"
   ]
  },
  {
   "cell_type": "code",
   "execution_count": 142,
   "metadata": {},
   "outputs": [
    {
     "name": "stderr",
     "output_type": "stream",
     "text": [
      "C:\\Users\\User\\Anaconda3\\lib\\site-packages\\sklearn\\model_selection\\_split.py:2026: FutureWarning: From version 0.21, test_size will always complement train_size unless both are specified.\n",
      "  FutureWarning)\n"
     ]
    }
   ],
   "source": [
    "#splite the files test and train again\n",
    "\n",
    "X_test_general_1 =  full_data[full_data['OutcomeType']==''] \n",
    "X_train_general_1 = full_data[full_data['OutcomeType']!='']\n",
    "\n",
    "#create the Target for train\n",
    "X_train_1 = X_train_general_1.drop('OutcomeType', axis = 1)\n",
    "X_test_1 = X_test_general_1.drop('OutcomeType', axis = 1)\n",
    "y_train_1 = X_train_general_1.OutcomeType\n",
    "\n",
    "\n",
    "#create file for the frist cheking\n",
    "X_train_1, X_test_1, y_train_1, y_test_1 = train_test_split(X_train_1,y_train_1,train_size=0.7, random_state=451816)\n"
   ]
  },
  {
   "cell_type": "code",
   "execution_count": 143,
   "metadata": {},
   "outputs": [],
   "source": [
    "# Choose relevant features for start the prediction \n",
    "\n",
    "X_train_1 = X_train_1[['DateTime_intday','AnimalType',\n",
    "                       'SexuponOutcome','Sex','IsIntact',\n",
    "                      'AgeuponOutcome_InYears', 'Gender',\n",
    "                      'AgeCategory','Day_ofWeek','WeekEnd',\n",
    "                      'Holiday','Name_missing','unicolor']]\n",
    "X_test_1 = X_test_1[['DateTime_intday','AnimalType',\n",
    "                       'SexuponOutcome','Sex','IsIntact',\n",
    "                      'AgeuponOutcome_InYears', 'Gender',\n",
    "                      'AgeCategory','Day_ofWeek','WeekEnd',\n",
    "                      'Holiday','Name_missing','unicolor']]\n",
    "\n",
    "X_train_dm_1= pd.get_dummies(X_train_1)\n",
    "X_test_dm_1= pd.get_dummies(X_test_1)\n",
    "\n",
    "# X_train.head(2)\n",
    "# X_test.head(2)\n",
    "# X_train_dm.head(2)\n",
    "# y_train.head(2)"
   ]
  },
  {
   "cell_type": "code",
   "execution_count": 155,
   "metadata": {},
   "outputs": [
    {
     "name": "stdout",
     "output_type": "stream",
     "text": [
      "Accuracy with more features 0.8061813442561907\n"
     ]
    }
   ],
   "source": [
    "#fit the model (X_train_dm,y_train )\n",
    "shelter_dt_1 = DecisionTreeClassifier(max_depth=5).fit(X_train_dm_1, y_train_1)\n",
    "# Assess the model\n",
    "cm = confusion_matrix(y_true=y_train_1,\n",
    "                      y_pred=shelter_dt_1.predict(X_train_dm_1))\n",
    "#Accuracy\n",
    "print('Accuracy with more features',accuracy_score(y_true=y_train,\n",
    "                      y_pred=shelter_dt_1.predict(X_train_dm_1)))\n"
   ]
  },
  {
   "cell_type": "code",
   "execution_count": 154,
   "metadata": {},
   "outputs": [
    {
     "name": "stdout",
     "output_type": "stream",
     "text": [
      "accuracy with pipe 0.8450940234593186\n"
     ]
    }
   ],
   "source": [
    "# Try to keep improving the data\n",
    "from sklearn.preprocessing import StandardScaler, MaxAbsScaler\n",
    "from sklearn.pipeline import Pipeline\n",
    "from sklearn.decomposition import PCA\n",
    "from sklearn.ensemble import RandomForestClassifier\n",
    "\n",
    "steps = [ ('scale', StandardScaler()), ('reduce_dim', PCA(2)), ('clf', RandomForestClassifier()) ]\n",
    "pipe = Pipeline(steps)\n",
    "\n",
    "pipe.fit(X_train_dm_1, y_train_1)\n",
    "train_pred = pipe.predict(X_train_dm_1)\n",
    "print('Accuracy with Pipeline Steps', accuracy_score(train_pred, y_train_1))\n"
   ]
  },
  {
   "cell_type": "code",
   "execution_count": 145,
   "metadata": {},
   "outputs": [
    {
     "data": {
      "text/plain": [
       "0.764118158123371"
      ]
     },
     "execution_count": 145,
     "metadata": {},
     "output_type": "execute_result"
    }
   ],
   "source": [
    "#Validating the model :\n",
    "\n",
    "# pipe.fit(X_train_dm_1, y_train_1)\n",
    "train_pred = pipe.predict(X_test_dm_1)\n",
    "accuracy_score(train_pred, y_test_1)\n",
    "\n"
   ]
  },
  {
   "cell_type": "code",
   "execution_count": 146,
   "metadata": {},
   "outputs": [
    {
     "name": "stdout",
     "output_type": "stream",
     "text": [
      "LR  classifier:\n",
      "         \ttrain accuracy: 0.79\n",
      "         \ttest accuracy: 0.79\n",
      "DT  classifier:\n",
      "         \ttrain accuracy: 0.85\n",
      "         \ttest accuracy: 0.77\n",
      "SVM classifier:\n",
      "         \ttrain accuracy: 0.80\n",
      "         \ttest accuracy: 0.80\n"
     ]
    }
   ],
   "source": [
    "# classifiers \n",
    "\n",
    "from sklearn.linear_model import LogisticRegression\n",
    "from sklearn.svm import SVC\n",
    "\n",
    "clf1 = LogisticRegression()\n",
    "clf2 = RandomForestClassifier()\n",
    "clf3 = SVC()\n",
    "\n",
    "classifiers = [('LR', clf1), ('DT', clf2), ('SVM', clf3)]\n",
    "\n",
    "results = y_train_1.to_frame()\n",
    "for clf_name, clf in classifiers:\n",
    "    clf.fit(X_train_dm_1, y_train_1)\n",
    "    results[clf_name] = clf.predict(X_train_dm_1)\n",
    "    print(\"{:3} classifier:\\n \\\n",
    "        \\ttrain accuracy: {:.2f}\\n \\\n",
    "        \\ttest accuracy: {:.2f}\"\\\n",
    "        .format(clf_name, \n",
    "                clf.score(X_train_dm_1, y_train_1), \n",
    "                clf.score(X_test_dm_1, y_test_1)))\n",
    "\n",
    "  "
   ]
  },
  {
   "cell_type": "code",
   "execution_count": 147,
   "metadata": {},
   "outputs": [
    {
     "name": "stdout",
     "output_type": "stream",
     "text": [
      "4 components\n",
      "mean: 0.7641070719592766\n",
      "std: 0.009658649056050581\n",
      "\n"
     ]
    }
   ],
   "source": [
    "#checking for overfit\n",
    "from sklearn.model_selection import cross_val_score\n",
    "\n",
    "# steps = [('scale', StandardScaler()), ('reduce_dim', PCA()),('clf', RandomForestClassifier())]\n",
    "# pipe = Pipeline(steps)\n",
    "\n",
    "# for n in range (1,5):\n",
    "# pipe.set_params(reduce_dim__n_components = n)\n",
    "scores = cross_val_score(pipe,X_train_dm_1, y_train_1,cv=5)\n",
    "    \n",
    "print(f'{n} components')\n",
    "print(f'mean: {scores.mean()}')\n",
    "print(f'std: {scores.std()}\\n')"
   ]
  },
  {
   "cell_type": "markdown",
   "metadata": {},
   "source": [
    "# Conclussion : \n",
    "\n",
    "RandomForestClassifier will give us the best accuracy in order to predic what will be the OutcomeType:\n",
    "    \n",
    "            train accuracy: 0.85\n",
    "         \ttest accuracy: 0.77"
   ]
  },
  {
   "cell_type": "code",
   "execution_count": null,
   "metadata": {},
   "outputs": [],
   "source": []
  }
 ],
 "metadata": {
  "kernelspec": {
   "display_name": "Python 3",
   "language": "python",
   "name": "python3"
  },
  "language_info": {
   "codemirror_mode": {
    "name": "ipython",
    "version": 3
   },
   "file_extension": ".py",
   "mimetype": "text/x-python",
   "name": "python",
   "nbconvert_exporter": "python",
   "pygments_lexer": "ipython3",
   "version": "3.6.4"
  }
 },
 "nbformat": 4,
 "nbformat_minor": 2
}
