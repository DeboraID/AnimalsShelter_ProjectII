{
 "cells": [
  {
   "cell_type": "code",
   "execution_count": 1,
   "metadata": {
    "_uuid": "9e426c1d390a25a828b21e5b2786d97d78773253",
    "collapsed": true
   },
   "outputs": [],
   "source": [
    "import pandas as pd\n",
    "import numpy as np\n",
    "import seaborn as sns\n",
    "import matplotlib.pyplot as plt\n",
    "from datetime import datetime\n",
    "%matplotlib inline"
   ]
  },
  {
   "cell_type": "markdown",
   "metadata": {
    "_uuid": "87898b426db826063883bc1eb7a36e84f31b428a"
   },
   "source": [
    "## Shelter Animal Outcomes ##\n",
    "\n",
    "* Get the data\n",
    "* Apply **pre-processing** steps if necessary\n",
    "    * data-related (e.g. filtering,  scaling, imputing, encoding, etc.)\n",
    "    * model-related (e.g. scoring, dimensionality reduction, feature extraction, etc.)\n",
    "* Data Analizis and Visualization \n",
    "* Choose a **model**\n",
    "    * Apply the **_fit()_** method to \"create\" the model\n",
    "    * Apply the **_predict()_** and/or **_transform()_** methods to \"use\" the model\n",
    "    * Apply the **_score()_** method to \"estimate\" the result\n"
   ]
  },
  {
   "cell_type": "markdown",
   "metadata": {
    "_uuid": "0486ee4dc9820d7434c45cfefa56aa2f6ff9afa2"
   },
   "source": [
    "*** Get the data ***"
   ]
  },
  {
   "cell_type": "code",
   "execution_count": 6,
   "metadata": {
    "_uuid": "099ccd30accbe93f8e704b073ea196612bd58bf7",
    "collapsed": true
   },
   "outputs": [
    {
     "name": "stdout",
     "output_type": "stream",
     "text": [
      "<class 'pandas.core.frame.DataFrame'>\n",
      "Int64Index: 38185 entries, 0 to 11455\n",
      "Data columns (total 8 columns):\n",
      "AgeuponOutcome    38161 non-null object\n",
      "AnimalType        38185 non-null object\n",
      "Breed             38185 non-null object\n",
      "Color             38185 non-null object\n",
      "DateTime          38185 non-null datetime64[ns]\n",
      "Name              27269 non-null object\n",
      "OutcomeType       38185 non-null object\n",
      "SexuponOutcome    38184 non-null object\n",
      "dtypes: datetime64[ns](1), object(7)\n",
      "memory usage: 2.6+ MB\n"
     ]
    },
    {
     "name": "stderr",
     "output_type": "stream",
     "text": [
      "C:\\Users\\User\\Anaconda3\\lib\\site-packages\\ipykernel_launcher.py:16: FutureWarning: Sorting because non-concatenation axis is not aligned. A future version\n",
      "of pandas will change to not sort by default.\n",
      "\n",
      "To accept the future behavior, pass 'sort=True'.\n",
      "\n",
      "To retain the current behavior and silence the warning, pass sort=False\n",
      "\n",
      "  app.launch_new_instance()\n"
     ]
    }
   ],
   "source": [
    "# i will work with both files at the same time in order to transform\n",
    "# the data at once. in the ML part i'll splite the data in:\n",
    "# Train, validation file and test\n",
    "\n",
    "# train_df =  pd.read_csv(\"../input/train.csv\", parse_dates=['DateTime'])\n",
    "# test_df =  pd.read_csv('../input/test.csv', parse_dates=['DateTime'])\n",
    "# test_df['OutcomeType'] = ''\n",
    "\n",
    "train_df =  pd.read_csv(\"train.csv\", parse_dates=['DateTime'])\n",
    "test_df =  pd.read_csv('test.csv', parse_dates=['DateTime'])\n",
    "test_df['OutcomeType'] = ''\n",
    "\n",
    "train_df = train_df.drop(['AnimalID','OutcomeSubtype'] , axis=1)\n",
    "test_df = test_df.drop('ID', axis=1)\n",
    "\n",
    "full_data = pd.concat([train_df, test_df], axis=0)\n",
    "full_data.info()\n",
    "del train_df , test_df"
   ]
  },
  {
   "cell_type": "code",
   "execution_count": 7,
   "metadata": {
    "_uuid": "2cc33f4c363170409f721fd722f288e46a65c7fe",
    "collapsed": true
   },
   "outputs": [
    {
     "data": {
      "text/plain": [
       "<matplotlib.axes._subplots.AxesSubplot at 0x1e8acaf0908>"
      ]
     },
     "execution_count": 7,
     "metadata": {},
     "output_type": "execute_result"
    },
    {
     "data": {
      "image/png": "[encoded data removed]",
      "text/plain": [
       "<matplotlib.figure.Figure at 0x1e8ace5def0>"
      ]
     },
     "metadata": {},
     "output_type": "display_data"
    }
   ],
   "source": [
    "#check population of cat and dog balance\n",
    "bal_population = full_data.groupby('AnimalType')['DateTime'].count()\n",
    "bal_population.plot.bar()"
   ]
  },
  {
   "cell_type": "markdown",
   "metadata": {
    "_uuid": "a476f746e305d9a62cd50690c98cd4a5996f2900"
   },
   "source": [
    "*** Preprocess the data ***"
   ]
  },
  {
   "cell_type": "code",
   "execution_count": 8,
   "metadata": {
    "_uuid": "979197e02cd3562bb44762c58934e942d3a7875d",
    "collapsed": true
   },
   "outputs": [
    {
     "name": "stdout",
     "output_type": "stream",
     "text": [
      "Missing data per column\n",
      " AgeuponOutcome       24\n",
      "AnimalType            0\n",
      "Breed                 0\n",
      "Color                 0\n",
      "DateTime              0\n",
      "Name              10916\n",
      "OutcomeType           0\n",
      "SexuponOutcome        1\n",
      "dtype: int64\n"
     ]
    }
   ],
   "source": [
    "# Check Missing Data:\n",
    "def num_missing(x):\n",
    "    \n",
    "    return sum(x.isnull())\n",
    "\n",
    "#Applying per column:\n",
    "\n",
    "print ('Missing data per column\\n', full_data.apply(num_missing, axis=0)) #axis=0 defines that function is to be applied on each column)\n",
    "\n",
    "#Applying per row:\n",
    "# \"'if are there rows with a lot of missing data they should be pulled out of the calculation (althogu in this case the most important columns haven't empty data )'\"\n",
    "\n",
    "# print ('Missing data per row',df_shelter.apply(num_missing, axis=1).sort_values(ascending=False)) #axis=1 defines that function is to be applied on each row)"
   ]
  },
  {
   "cell_type": "code",
   "execution_count": 9,
   "metadata": {
    "_uuid": "d0c48019528685bfe93fb803df90702323352e89",
    "collapsed": true
   },
   "outputs": [],
   "source": [
    "#clean empty rows (rows without Datatime, AnimalType and Age aren't usefull)\n",
    "mask = ~full_data['DateTime'].isna() & ~full_data['AnimalType'].isna()& ~full_data['AgeuponOutcome'].isna()\n",
    "#full_data.loc[mask == False]\n",
    "# print(full_data.shape)\n",
    "full_data = full_data.loc[mask, :]\n",
    "# print(full_data.shape)"
   ]
  },
  {
   "cell_type": "code",
   "execution_count": 10,
   "metadata": {
    "_uuid": "2dd3531d4cd757adb5e616d74ae7069860d2c031",
    "collapsed": true
   },
   "outputs": [],
   "source": [
    "# #another way to check rows with empty values \n",
    "# def count_missing(vec):\n",
    "#     \"\"\"counts the number of missing values in a vector\n",
    "#     \"\"\"\n",
    "#     null_vec = pd.isnull(vec) # vector of True/False\n",
    "#     null_count = np.sum(null_vec) # True has a value of 1\n",
    "#     return null_count\n",
    "\n",
    "# df_shelter.apply(count_missing, axis=1).value_counts()"
   ]
  },
  {
   "cell_type": "markdown",
   "metadata": {
    "_uuid": "b16a7a680680800361db9e6f9ff5fde27b7138aa"
   },
   "source": [
    "*** Data preparation ***"
   ]
  },
  {
   "cell_type": "markdown",
   "metadata": {
    "_uuid": "1268e34b6d757bc2c20cb01800c94acf96ace7d4"
   },
   "source": [
    "* Data Standartization \n",
    "    * Age "
   ]
  },
  {
   "cell_type": "code",
   "execution_count": 11,
   "metadata": {
    "_uuid": "e2941820ca73a4fb3234357ae2eac24429028913",
    "collapsed": true
   },
   "outputs": [
    {
     "data": {
      "text/plain": [
       "array(['1 year', '2 years', '3 weeks', '1 month', '5 months', '4 years',\n",
       "       '3 months', '2 weeks', '2 months', '10 months', '6 months',\n",
       "       '5 years', '7 years', '3 years', '4 months', '12 years', '9 years',\n",
       "       '6 years', '1 weeks', '11 years', '4 weeks', '7 months', '8 years',\n",
       "       '11 months', '4 days', '9 months', '8 months', '15 years',\n",
       "       '10 years', '1 week', '0 years', '14 years', '3 days', '6 days',\n",
       "       '5 days', '5 weeks', '2 days', '16 years', '1 day', '13 years',\n",
       "       '17 years', '18 years', '19 years', '20 years', '22 years'],\n",
       "      dtype=object)"
      ]
     },
     "execution_count": 11,
     "metadata": {},
     "output_type": "execute_result"
    }
   ],
   "source": [
    "#step 1\n",
    "full_data['AgeuponOutcome'].unique() # how do i sorted values here?.sort()"
   ]
  },
  {
   "cell_type": "code",
   "execution_count": 12,
   "metadata": {
    "_uuid": "e59f25ec7f3c7b44dea357bf5b17c82807053fe0",
    "collapsed": true
   },
   "outputs": [],
   "source": [
    "# step 2 & 3\n",
    "# Calculating the total animal's age:\n",
    "full_data['AgeuponOutcome_Time']= full_data['AgeuponOutcome'].str.split(' ').str.get(1) #split the data \n",
    "full_data['AgeuponOutcome_Time']=full_data['AgeuponOutcome_Time'].replace( ['year', 'years', 'week', 'weeks', 'month','months', 'days','day'], \n",
    "                                                                [365, 365, 7, 7,30.5, 30.5, 1,1]) #replace by the total days \n",
    "#fill the empty values in order to be able to do math calculations\n",
    "full_data['AgeuponOutcome_Time'] = full_data['AgeuponOutcome_Time'].fillna(0).astype(float)\n",
    "\n",
    "#transform the age data to numbers that we can manipulate with math tecniques\n",
    "full_data['AgeuponOutcome_Age']= full_data['AgeuponOutcome'].str.split(' ').str.get(0).fillna(0).astype(float)\n",
    "\n",
    "#calculate the age in days \n",
    "full_data['AgeuponOutcome_InDays']= full_data['AgeuponOutcome_Age']* full_data['AgeuponOutcome_Time']\n",
    "\n",
    "#calculate the age in years\n",
    "full_data['AgeuponOutcome_InYears']= full_data['AgeuponOutcome_InDays']/365\n",
    "\n"
   ]
  },
  {
   "cell_type": "code",
   "execution_count": 13,
   "metadata": {
    "_uuid": "3ecca3a2a10df3a95b5b95674e3ec68bb3423cd9",
    "collapsed": true
   },
   "outputs": [],
   "source": [
    "#split the gender of  the animal \n",
    "def General_gender(x):\n",
    "    if x == 'Female':\n",
    "        return 'Female'\n",
    "    elif x == 'Male':\n",
    "        return 'Male'\n",
    "    else:\n",
    "        return 'unknow'\n",
    "    \n",
    "full_data['Gender']= full_data['SexuponOutcome'].str.split(' ').str.get(1) #separate general gender\n",
    "full_data['Gender'] = full_data.Gender.apply(General_gender) \n",
    "\n",
    "# data.loc[data.Gender == 'unknow'].count()\n",
    "# data.loc[data.Gender.isnull()].count()\n"
   ]
  },
  {
   "cell_type": "markdown",
   "metadata": {
    "_uuid": "7a460125f44b5aab240410a23ef258ac98b85e00"
   },
   "source": [
    "*** Data analizis***"
   ]
  },
  {
   "cell_type": "markdown",
   "metadata": {
    "_uuid": "dcebc21a105da17d10377d192fdee12f9fcb498a"
   },
   "source": [
    "Dogs vs cats -- Segmentation Age's "
   ]
  },
  {
   "cell_type": "code",
   "execution_count": 14,
   "metadata": {
    "_uuid": "1185766928a46123d682ebb200addc3e3745ec9f",
    "collapsed": true
   },
   "outputs": [
    {
     "data": {
      "text/plain": [
       "<matplotlib.axes._subplots.AxesSubplot at 0x1e8adc05048>"
      ]
     },
     "execution_count": 14,
     "metadata": {},
     "output_type": "execute_result"
    },
    {
     "data": {
      "image/png": "[encoded data removed]",
      "text/plain": [
       "<matplotlib.figure.Figure at 0x1e8accc3e48>"
      ]
     },
     "metadata": {},
     "output_type": "display_data"
    }
   ],
   "source": [
    "from numpy import where  #why do i need to import \"where \"again?\n",
    "\n",
    "Ages = full_data.groupby(['AnimalType','AgeuponOutcome_InYears'])['AgeuponOutcome_InYears'].count().reset_index(name='Qty')\n",
    "a_min, a_max = 0, 3000\n",
    "y_min, y_max = 0, 20\n",
    "Ages.plot('Qty', 'AgeuponOutcome_InYears', kind='scatter',\n",
    "          xlim=[a_min, a_max], ylim=[y_min, y_max],\n",
    "          c=where(full_data.AnimalType =='Dog', 'blue', 'green'),legend = True, \n",
    "          label = 'Dog' , s=50)"
   ]
  },
  {
   "cell_type": "markdown",
   "metadata": {
    "_uuid": "56bcdf7822ab2f9e96af36ffa21c6535d0cdd62f"
   },
   "source": [
    "The scattered distribution of animals in ages does not tell us much, except that in both cases the most common age of and specific outcome reason in the shelters is around the first two years of life."
   ]
  },
  {
   "cell_type": "markdown",
   "metadata": {
    "_uuid": "ac4756e1cf5e84432edff94a0e0190e92e0a4f9e"
   },
   "source": [
    "In order to be able to study more deep the data, \n",
    "I will create groups of ages based on the following links:\n",
    "for cat category :\n",
    "https://www.google.co.il/search?q=stages+of+age+dogs&source=lnms&tbm=isch&sa=X&ved=0ahUKEwiA3IuE0NXbAhWHK8AKHXbNDf0Q_AUICigB&biw=1366&bih=635#imgrc=eQu8yLrz9XWLRM:\n",
    "for dog's category : \n",
    "https://www.google.co.il/search?q=stages+of+age+dogs&source=lnms&tbm=isch&sa=X&ved=0ahUKEwiA3IuE0NXbAhWHK8AKHXbNDf0Q_AUICigB&biw=1366&bih=635#imgrc=womRL2LDYl5SOM:'''\n",
    "More or less they have the same stages :"
   ]
  },
  {
   "cell_type": "code",
   "execution_count": 15,
   "metadata": {
    "_uuid": "e423396bfaa417877a9e84a03902d247993a47dc",
    "collapsed": true
   },
   "outputs": [
    {
     "data": {
      "text/plain": [
       "<seaborn.axisgrid.FacetGrid at 0x1e8adbe0da0>"
      ]
     },
     "execution_count": 15,
     "metadata": {},
     "output_type": "execute_result"
    },
    {
     "data": {
      "image/png": "[encoded data removed]",
      "text/plain": [
       "<matplotlib.figure.Figure at 0x1e8adbe06a0>"
      ]
     },
     "metadata": {},
     "output_type": "display_data"
    }
   ],
   "source": [
    "def CategoryAge(x):\n",
    "    if x <= 1.5:\n",
    "        return 'NewBorn'\n",
    "    elif 1.5 < x <= 3 :\n",
    "        return 'Adolescence'\n",
    "    elif 3 < x <= 7 :\n",
    "        return 'Adulthood '\n",
    "    else:\n",
    "        return 'Senior'\n",
    "    \n",
    "full_data['AgeCategory'] = full_data.AgeuponOutcome_InYears.apply(CategoryAge)\n",
    "sns.factorplot(x=\"AnimalType\", hue=\"AgeCategory\", data=full_data, kind=\"count\",\n",
    "                    size=4, aspect=.7)\n"
   ]
  },
  {
   "cell_type": "code",
   "execution_count": 16,
   "metadata": {
    "_uuid": "3f99050bc4b1e8d8648c0211aeab453c16b44ca1",
    "collapsed": true
   },
   "outputs": [],
   "source": [
    "#Drill down into each Animaltype and current OutcomeType\n",
    "\n",
    "dogs = full_data.loc[(full_data['AnimalType']=='Dog' )]\n",
    "cats = full_data.loc[(full_data['AnimalType']=='Cat')]"
   ]
  },
  {
   "cell_type": "code",
   "execution_count": 17,
   "metadata": {
    "_uuid": "ec0363caf61c79bb631e1a2c9b6143453ea61007",
    "collapsed": true
   },
   "outputs": [
    {
     "data": {
      "text/plain": [
       "<seaborn.axisgrid.FacetGrid at 0x1e8ada422e8>"
      ]
     },
     "execution_count": 17,
     "metadata": {},
     "output_type": "execute_result"
    },
    {
     "data": {
      "image/png": "[encoded data removed]",
      "text/plain": [
       "<matplotlib.figure.Figure at 0x1e8ad9846a0>"
      ]
     },
     "metadata": {},
     "output_type": "display_data"
    }
   ],
   "source": [
    "#Check the segmentation of the cases based on all dog's data, \n",
    "#AgeCategory and OutcomeType\n",
    "\n",
    "sns.factorplot(x=\"OutcomeType\", hue=\"AgeCategory\", data=dogs, kind=\"count\",\n",
    "                    size=10, aspect=.7)\n"
   ]
  },
  {
   "cell_type": "code",
   "execution_count": 18,
   "metadata": {
    "_uuid": "73148b2718c885ff0392130177c7acb33ffee6cb",
    "collapsed": true
   },
   "outputs": [
    {
     "data": {
      "text/plain": [
       "<seaborn.axisgrid.FacetGrid at 0x1e8ae925630>"
      ]
     },
     "execution_count": 18,
     "metadata": {},
     "output_type": "execute_result"
    },
    {
     "data": {
      "image/png": "[encoded data removed]",
      "text/plain": [
       "<matplotlib.figure.Figure at 0x1e8ad581c50>"
      ]
     },
     "metadata": {},
     "output_type": "display_data"
    }
   ],
   "source": [
    "#Check the segmentation of the cases based on all cat's data, \n",
    "#AgeCategory and OutcomeType\n",
    "\n",
    "sns.factorplot(x=\"OutcomeType\", hue=\"AgeCategory\", data=cats, kind=\"count\",\n",
    "                    size=10, aspect=.7)"
   ]
  },
  {
   "cell_type": "markdown",
   "metadata": {
    "_uuid": "52ffa66d4d5c9cd383258a1e0a8c558752889670"
   },
   "source": [
    "Conclusions: \n",
    "\n",
    "* The most common age for those animals in the shelters are during their first two years of live. \n",
    "\n",
    "* More dogs are outcoming to shelters due to 'return_to_owner' than cats, and it happend the most during the 'Adolescence' period, although that aren't a big differentces between the rest of the age's categories."
   ]
  },
  {
   "cell_type": "markdown",
   "metadata": {
    "_uuid": "b3d17eb0198ee3c550c2817534b5e414993e3b53"
   },
   "source": [
    "*** Dates and Time Analizis***"
   ]
  },
  {
   "cell_type": "code",
   "execution_count": 19,
   "metadata": {
    "_uuid": "9b9113e65f69c21248eb6be90a8b9be22b9cf493",
    "collapsed": true
   },
   "outputs": [],
   "source": [
    "full_data['Day_ofWeek'] = full_data['DateTime'].dt.weekday_name\n",
    " \n",
    "def WeekEnd(x):\n",
    "    if x in ('Saturday', 'Sunday'):\n",
    "        return 'Weekend'\n",
    "    else:\n",
    "        return 'NoWeekend'\n",
    "    \n",
    "full_data['WeekEnd'] = full_data.Day_ofWeek.apply(WeekEnd)\n"
   ]
  },
  {
   "cell_type": "code",
   "execution_count": 20,
   "metadata": {
    "_uuid": "28d41a80ad16e38548899d215523ec5550f3c692",
    "collapsed": true
   },
   "outputs": [
    {
     "data": {
      "text/plain": [
       "<seaborn.axisgrid.FacetGrid at 0x1e8adc5af60>"
      ]
     },
     "execution_count": 20,
     "metadata": {},
     "output_type": "execute_result"
    },
    {
     "data": {
      "image/png": "[encoded data removed]",
      "text/plain": [
       "<matplotlib.figure.Figure at 0x1e8adc5d0b8>"
      ]
     },
     "metadata": {},
     "output_type": "display_data"
    }
   ],
   "source": [
    "sns.factorplot(x=\"AgeCategory\", hue=\"WeekEnd\", data=full_data, kind=\"count\",\n",
    "                    size=10, aspect=.7)"
   ]
  },
  {
   "cell_type": "markdown",
   "metadata": {
    "_uuid": "8ae1e0ecefeab786a814c88879b0a2669a2cf580"
   },
   "source": [
    "**Conclusion:** \n",
    "Animal are outcoming dirug the week and not during the weekends.  "
   ]
  },
  {
   "cell_type": "markdown",
   "metadata": {
    "_uuid": "635388ca0a55cbaf263de8f4d2e4f22db99032a5"
   },
   "source": [
    "***Seasonality - *** stablish a rule for those animals that are beeing returned . \n",
    "\n",
    "**Are the season a parameter to take into account?**"
   ]
  },
  {
   "cell_type": "code",
   "execution_count": 21,
   "metadata": {
    "_uuid": "6a8394c379554211538dac008ed11334f21c54f8",
    "collapsed": true
   },
   "outputs": [],
   "source": [
    "from pandas.tseries.holiday import USFederalHolidayCalendar as calendar\n",
    "cal = calendar()\n",
    "dr = full_data.DateTime\n",
    "holidays = cal.holidays(start=dr.min(), end=dr.max())\n",
    "full_data['Holiday'] = full_data['DateTime'].isin(holidays)\n"
   ]
  },
  {
   "cell_type": "code",
   "execution_count": 22,
   "metadata": {
    "_uuid": "0a1900e59d73f5f25704c6e46f025c15ac805223",
    "collapsed": true
   },
   "outputs": [
    {
     "data": {
      "text/plain": [
       "Holiday\n",
       "False    38138\n",
       "True        23\n",
       "Name: DateTime, dtype: int64"
      ]
     },
     "execution_count": 22,
     "metadata": {},
     "output_type": "execute_result"
    }
   ],
   "source": [
    "# Check status\n",
    "full_data.groupby(['Holiday'])['DateTime'].count()"
   ]
  },
  {
   "cell_type": "markdown",
   "metadata": {
    "_uuid": "0d4324bad5fe0b3b425952434dc478a3e583c1a7"
   },
   "source": [
    "***Conclusion:*** Most of the pet's are going outthe shelters during non holidays period"
   ]
  },
  {
   "cell_type": "markdown",
   "metadata": {
    "_uuid": "0f2c9a2c6ba6deb4cc815cbc9546099bb882767b"
   },
   "source": [
    "***Analizis by gender***"
   ]
  },
  {
   "cell_type": "code",
   "execution_count": 23,
   "metadata": {
    "_uuid": "401cf14fadb08d4587e434667bcc24ceba3740c4",
    "collapsed": true
   },
   "outputs": [
    {
     "data": {
      "text/plain": [
       "<seaborn.axisgrid.FacetGrid at 0x1e8ad9a1ac8>"
      ]
     },
     "execution_count": 23,
     "metadata": {},
     "output_type": "execute_result"
    },
    {
     "data": {
      "image/png": "[encoded data removed]",
      "text/plain": [
       "<matplotlib.figure.Figure at 0x1e8adc5ae48>"
      ]
     },
     "metadata": {},
     "output_type": "display_data"
    }
   ],
   "source": [
    "sns.factorplot(x=\"AnimalType\", hue=\"Gender\", data=full_data, kind=\"count\",\n",
    "                    size=5, aspect=.7)"
   ]
  },
  {
   "cell_type": "code",
   "execution_count": 24,
   "metadata": {
    "_uuid": "9c4ef2bb63be4f6c878e70a8690b498fee1e5640",
    "collapsed": true
   },
   "outputs": [],
   "source": [
    "full_data['Name_missing'] = full_data['Name'].isna()\n",
    "full_data.groupby(['AnimalType'])['Name_missing'].count()\n",
    "full_data = full_data[full_data['Name_missing']==True]\n",
    "# sns.factorplot(x=\"OutcomeType\", hue=\"AnimalType\", data=name_missing, kind=\"count\",\n",
    "#                     size=4, aspect=4)"
   ]
  },
  {
   "cell_type": "markdown",
   "metadata": {
    "_uuid": "4122a975287985f45e6893145093abb555460484"
   },
   "source": [
    "***Conclusion: ***  no conclusion from the last two analizis "
   ]
  },
  {
   "cell_type": "markdown",
   "metadata": {
    "_uuid": "2daa501abddc877cde0c269ad37e15463586b3c9"
   },
   "source": [
    "***Spliting the color and finding more metrics ***"
   ]
  },
  {
   "cell_type": "code",
   "execution_count": 25,
   "metadata": {
    "_uuid": "a813658998e2ae07edf5973f2e522e61e8ae952a",
    "collapsed": true
   },
   "outputs": [
    {
     "name": "stderr",
     "output_type": "stream",
     "text": [
      "C:\\Users\\User\\Anaconda3\\lib\\site-packages\\ipykernel_launcher.py:3: SettingWithCopyWarning: \n",
      "A value is trying to be set on a copy of a slice from a DataFrame.\n",
      "Try using .loc[row_indexer,col_indexer] = value instead\n",
      "\n",
      "See the caveats in the documentation: http://pandas.pydata.org/pandas-docs/stable/indexing.html#indexing-view-versus-copy\n",
      "  This is separate from the ipykernel package so we can avoid doing imports until\n",
      "C:\\Users\\User\\Anaconda3\\lib\\site-packages\\ipykernel_launcher.py:4: SettingWithCopyWarning: \n",
      "A value is trying to be set on a copy of a slice from a DataFrame.\n",
      "Try using .loc[row_indexer,col_indexer] = value instead\n",
      "\n",
      "See the caveats in the documentation: http://pandas.pydata.org/pandas-docs/stable/indexing.html#indexing-view-versus-copy\n",
      "  after removing the cwd from sys.path.\n",
      "C:\\Users\\User\\Anaconda3\\lib\\site-packages\\ipykernel_launcher.py:5: SettingWithCopyWarning: \n",
      "A value is trying to be set on a copy of a slice from a DataFrame.\n",
      "Try using .loc[row_indexer,col_indexer] = value instead\n",
      "\n",
      "See the caveats in the documentation: http://pandas.pydata.org/pandas-docs/stable/indexing.html#indexing-view-versus-copy\n",
      "  \"\"\"\n"
     ]
    }
   ],
   "source": [
    "#color\n",
    "           \n",
    "full_data['Color1'] = full_data.Color.str.split('/').str.get(1)  \n",
    "full_data['Color2'] =full_data.Color.str.split('/').str.get(2)  \n",
    "full_data['unicolor'] = full_data.Color1.apply(lambda x: 1 if x else 0) \n",
    "\n",
    "# full_data['unicolor'].isna()      "
   ]
  },
  {
   "cell_type": "code",
   "execution_count": 26,
   "metadata": {
    "_uuid": "f3dc66d53a71bf1819f025a50fa8a292655da9be",
    "collapsed": true
   },
   "outputs": [
    {
     "name": "stderr",
     "output_type": "stream",
     "text": [
      "C:\\Users\\User\\Anaconda3\\lib\\site-packages\\ipykernel_launcher.py:6: SettingWithCopyWarning: \n",
      "A value is trying to be set on a copy of a slice from a DataFrame.\n",
      "Try using .loc[row_indexer,col_indexer] = value instead\n",
      "\n",
      "See the caveats in the documentation: http://pandas.pydata.org/pandas-docs/stable/indexing.html#indexing-view-versus-copy\n",
      "  \n"
     ]
    }
   ],
   "source": [
    "#checking if the breed is mix or not\n",
    "def get_mix(x):\n",
    "    x = str(x)\n",
    "    if x.find('Mix') >= 0: return 'mix'\n",
    "    return 'not'\n",
    "full_data['Mix'] = full_data.Breed.apply(get_mix)\n"
   ]
  },
  {
   "cell_type": "markdown",
   "metadata": {
    "_uuid": "7b59333fc816abb576befd0aa5049cb5b6c3feb3"
   },
   "source": [
    "## Machine Lerning\n",
    "***Decision Tree (Outcome)***\n",
    "Start Point"
   ]
  },
  {
   "cell_type": "code",
   "execution_count": 27,
   "metadata": {
    "_uuid": "f93d2d73debdd04c2e059eaa0bd49c21b3d32733",
    "collapsed": true
   },
   "outputs": [],
   "source": [
    "# full_data.columns"
   ]
  },
  {
   "cell_type": "code",
   "execution_count": 28,
   "metadata": {
    "_uuid": "a5e0a1db2d0f6939e0781d119d7011e51b956838",
    "collapsed": true
   },
   "outputs": [
    {
     "name": "stderr",
     "output_type": "stream",
     "text": [
      "C:\\Users\\User\\Anaconda3\\lib\\site-packages\\sklearn\\model_selection\\_split.py:2026: FutureWarning: From version 0.21, test_size will always complement train_size unless both are specified.\n",
      "  FutureWarning)\n"
     ]
    }
   ],
   "source": [
    "from sklearn.model_selection import train_test_split\n",
    "\n",
    "#splite the files test and train again\n",
    "\n",
    "X_test_general =  full_data[full_data['OutcomeType']==''] \n",
    "X_train_general = full_data[full_data['OutcomeType']!='']\n",
    "\n",
    "#create the Target for train\n",
    "X_train = X_train_general.drop('OutcomeType', axis = 1)\n",
    "X_Target = X_test_general.drop('OutcomeType', axis = 1)\n",
    "y_train = X_train_general.OutcomeType\n",
    "\n",
    "#create file for the frist cheking\n",
    "X_train, X_test, y_train, y_test = train_test_split(X_train,y_train,train_size=0.7, random_state=451816)\n",
    "\n"
   ]
  },
  {
   "cell_type": "code",
   "execution_count": 29,
   "metadata": {
    "_uuid": "ef9e9adad45dc753155c89aab6fd7266770ae92c",
    "collapsed": true
   },
   "outputs": [],
   "source": [
    "# Choose relevant features for start the prediction \n",
    "\n",
    "X_train = X_train[['AnimalType','SexuponOutcome',\n",
    "                      'AgeuponOutcome_InYears', 'Gender',\n",
    "                      'AgeCategory','Day_ofWeek','WeekEnd',\n",
    "                      'Holiday','Name_missing','unicolor']]\n",
    "X_test = X_test[['AnimalType','SexuponOutcome',\n",
    "                      'AgeuponOutcome_InYears', 'Gender',\n",
    "                      'AgeCategory','Day_ofWeek','WeekEnd',\n",
    "                      'Holiday','Name_missing','unicolor']]\n",
    "\n",
    "X_train_dm= pd.get_dummies(X_train)\n",
    "X_test_dm= pd.get_dummies(X_test)\n",
    "\n",
    "# X_train.head(2)\n",
    "# X_test.head(2)\n",
    "# X_train_dm.head(2)\n",
    "# y_train.head(2)"
   ]
  },
  {
   "cell_type": "markdown",
   "metadata": {
    "_uuid": "7c931f4a735971a5384d2bd96e48a7d05287297b"
   },
   "source": [
    "***Fit the model***"
   ]
  },
  {
   "cell_type": "code",
   "execution_count": 30,
   "metadata": {
    "_uuid": "28ba8995752e52dbf1402d3bf4f8a32f6f7c8481",
    "collapsed": true
   },
   "outputs": [
    {
     "data": {
      "text/html": [
       "<div>\n",
       "<style scoped>\n",
       "    .dataframe tbody tr th:only-of-type {\n",
       "        vertical-align: middle;\n",
       "    }\n",
       "\n",
       "    .dataframe tbody tr th {\n",
       "        vertical-align: top;\n",
       "    }\n",
       "\n",
       "    .dataframe thead th {\n",
       "        text-align: right;\n",
       "    }\n",
       "</style>\n",
       "<table border=\"1\" class=\"dataframe\">\n",
       "  <thead>\n",
       "    <tr style=\"text-align: right;\">\n",
       "      <th></th>\n",
       "      <th>Adoption</th>\n",
       "      <th>Died</th>\n",
       "      <th>Euthanasia</th>\n",
       "      <th>Return_to_owner</th>\n",
       "      <th>Transfer</th>\n",
       "    </tr>\n",
       "  </thead>\n",
       "  <tbody>\n",
       "    <tr>\n",
       "      <th>Adoption</th>\n",
       "      <td>1118</td>\n",
       "      <td>0</td>\n",
       "      <td>4</td>\n",
       "      <td>0</td>\n",
       "      <td>44</td>\n",
       "    </tr>\n",
       "    <tr>\n",
       "      <th>Died</th>\n",
       "      <td>2</td>\n",
       "      <td>0</td>\n",
       "      <td>10</td>\n",
       "      <td>0</td>\n",
       "      <td>73</td>\n",
       "    </tr>\n",
       "    <tr>\n",
       "      <th>Euthanasia</th>\n",
       "      <td>7</td>\n",
       "      <td>0</td>\n",
       "      <td>200</td>\n",
       "      <td>0</td>\n",
       "      <td>365</td>\n",
       "    </tr>\n",
       "    <tr>\n",
       "      <th>Return_to_owner</th>\n",
       "      <td>46</td>\n",
       "      <td>0</td>\n",
       "      <td>10</td>\n",
       "      <td>1</td>\n",
       "      <td>55</td>\n",
       "    </tr>\n",
       "    <tr>\n",
       "      <th>Transfer</th>\n",
       "      <td>317</td>\n",
       "      <td>0</td>\n",
       "      <td>116</td>\n",
       "      <td>0</td>\n",
       "      <td>3003</td>\n",
       "    </tr>\n",
       "  </tbody>\n",
       "</table>\n",
       "</div>"
      ],
      "text/plain": [
       "                 Adoption  Died  Euthanasia  Return_to_owner  Transfer\n",
       "Adoption             1118     0           4                0        44\n",
       "Died                    2     0          10                0        73\n",
       "Euthanasia              7     0         200                0       365\n",
       "Return_to_owner        46     0          10                1        55\n",
       "Transfer              317     0         116                0      3003"
      ]
     },
     "execution_count": 30,
     "metadata": {},
     "output_type": "execute_result"
    }
   ],
   "source": [
    "from sklearn.metrics import confusion_matrix, classification_report\n",
    "from sklearn.metrics import accuracy_score\n",
    "from sklearn.tree import DecisionTreeClassifier, export_graphviz\n",
    "\n",
    "#fit the model (X_train_dm,y_train )\n",
    "shelter_dt = DecisionTreeClassifier(max_depth=5).fit(X_train_dm, y_train)\n",
    "# Assess the model\n",
    "cm = confusion_matrix(y_true=y_train,\n",
    "                      y_pred=shelter_dt.predict(X_train_dm))\n",
    "pd.DataFrame(cm,\n",
    "             index=shelter_dt.classes_,\n",
    "             columns=shelter_dt.classes_)"
   ]
  },
  {
   "cell_type": "code",
   "execution_count": 31,
   "metadata": {
    "_uuid": "8c950f1d5a2c9a0a41c42583caba1d251cb12cb9",
    "collapsed": true
   },
   "outputs": [
    {
     "name": "stdout",
     "output_type": "stream",
     "text": [
      "Accuracy Validation 0.8046918637125302\n"
     ]
    }
   ],
   "source": [
    "#Accuracy\n",
    "print('Accuracy Validation', accuracy_score(y_true=y_train,\n",
    "                      y_pred=shelter_dt.predict(X_train_dm)))"
   ]
  },
  {
   "cell_type": "code",
   "execution_count": 32,
   "metadata": {
    "_uuid": "60fdf5a893b88cda4e19988eaf33a2ca72d34300",
    "collapsed": true
   },
   "outputs": [
    {
     "data": {
      "text/plain": [
       "{'max_dep20': 0.8532861664494508,\n",
       " 'max_dep3': 0.7788121392664308,\n",
       " 'max_dep4': 0.8046918637125302,\n",
       " 'max_dep5': 0.8046918637125302}"
      ]
     },
     "execution_count": 32,
     "metadata": {},
     "output_type": "execute_result"
    }
   ],
   "source": [
    "#improve the accuraccy by max_dep\n",
    "shelter_dt_3 = DecisionTreeClassifier(max_depth=3).fit(X_train_dm, y_train)\n",
    "shelter_dt_5 = DecisionTreeClassifier(max_depth=5).fit(X_train_dm, y_train)\n",
    "shelter_dt_20 = DecisionTreeClassifier(max_depth=20).fit(X_train_dm, y_train)\n",
    "acc_3 = accuracy_score(y_true=y_train,\n",
    "                      y_pred=shelter_dt_3.predict(X_train_dm))\n",
    "acc_4 = accuracy_score(y_true=y_train,\n",
    "                      y_pred=shelter_dt.predict(X_train_dm))\n",
    "acc_5 = accuracy_score(y_true=y_train,\n",
    "                      y_pred=shelter_dt_5.predict(X_train_dm))\n",
    "acc_20 = accuracy_score(y_true=y_train,\n",
    "                      y_pred=shelter_dt_20.predict(X_train_dm))\n",
    "Max_dep_t = ['max_dep3', 'max_dep4','max_dep5', 'max_dep20']\n",
    "Max_dep_r = [acc_3, acc_4, acc_5, acc_20]\n",
    "best_accurracy = dict(zip(Max_dep_t,Max_dep_r))\n",
    "best_accurracy"
   ]
  },
  {
   "cell_type": "code",
   "execution_count": 33,
   "metadata": {
    "_uuid": "e2d8711f92948b4193c8ca6063fe6c324f66d331",
    "collapsed": true
   },
   "outputs": [
    {
     "data": {
      "text/html": [
       "<div>\n",
       "<style scoped>\n",
       "    .dataframe tbody tr th:only-of-type {\n",
       "        vertical-align: middle;\n",
       "    }\n",
       "\n",
       "    .dataframe tbody tr th {\n",
       "        vertical-align: top;\n",
       "    }\n",
       "\n",
       "    .dataframe thead th {\n",
       "        text-align: right;\n",
       "    }\n",
       "</style>\n",
       "<table border=\"1\" class=\"dataframe\">\n",
       "  <thead>\n",
       "    <tr style=\"text-align: right;\">\n",
       "      <th></th>\n",
       "      <th>Adoption</th>\n",
       "      <th>Died</th>\n",
       "      <th>Euthanasia</th>\n",
       "      <th>Return_to_owner</th>\n",
       "      <th>Transfer</th>\n",
       "    </tr>\n",
       "  </thead>\n",
       "  <tbody>\n",
       "    <tr>\n",
       "      <th>Adoption</th>\n",
       "      <td>1105</td>\n",
       "      <td>0</td>\n",
       "      <td>1</td>\n",
       "      <td>0</td>\n",
       "      <td>60</td>\n",
       "    </tr>\n",
       "    <tr>\n",
       "      <th>Died</th>\n",
       "      <td>1</td>\n",
       "      <td>26</td>\n",
       "      <td>5</td>\n",
       "      <td>0</td>\n",
       "      <td>53</td>\n",
       "    </tr>\n",
       "    <tr>\n",
       "      <th>Euthanasia</th>\n",
       "      <td>8</td>\n",
       "      <td>5</td>\n",
       "      <td>311</td>\n",
       "      <td>1</td>\n",
       "      <td>247</td>\n",
       "    </tr>\n",
       "    <tr>\n",
       "      <th>Return_to_owner</th>\n",
       "      <td>35</td>\n",
       "      <td>0</td>\n",
       "      <td>10</td>\n",
       "      <td>37</td>\n",
       "      <td>30</td>\n",
       "    </tr>\n",
       "    <tr>\n",
       "      <th>Transfer</th>\n",
       "      <td>218</td>\n",
       "      <td>10</td>\n",
       "      <td>98</td>\n",
       "      <td>6</td>\n",
       "      <td>3104</td>\n",
       "    </tr>\n",
       "  </tbody>\n",
       "</table>\n",
       "</div>"
      ],
      "text/plain": [
       "                 Adoption  Died  Euthanasia  Return_to_owner  Transfer\n",
       "Adoption             1105     0           1                0        60\n",
       "Died                    1    26           5                0        53\n",
       "Euthanasia              8     5         311                1       247\n",
       "Return_to_owner        35     0          10               37        30\n",
       "Transfer              218    10          98                6      3104"
      ]
     },
     "execution_count": 33,
     "metadata": {},
     "output_type": "execute_result"
    }
   ],
   "source": [
    "#fit the model (X_train_dm,y_train )\n",
    "# shelter_dt = DecisionTreeClassifier(max_depth=5).fit(X_train_dm, y_train)\n",
    "# Assess the model\n",
    "cm = confusion_matrix(y_true=y_train,\n",
    "                      y_pred=shelter_dt_20.predict(X_train_dm))\n",
    "pd.DataFrame(cm,\n",
    "             index=shelter_dt_20.classes_,\n",
    "             columns=shelter_dt_20.classes_)"
   ]
  },
  {
   "cell_type": "code",
   "execution_count": 34,
   "metadata": {
    "_uuid": "8f673c6208743f6156994b351349646a0eb2590c",
    "collapsed": true
   },
   "outputs": [
    {
     "name": "stdout",
     "output_type": "stream",
     "text": [
      "0.8532861664494508\n",
      "0.7662901824500434\n"
     ]
    }
   ],
   "source": [
    "#validating the model with the validation file from train\n",
    "clf = DecisionTreeClassifier(max_depth=20)\n",
    "\n",
    "clf.fit(X_train_dm, y_train)\n",
    "print(clf.score(X_train_dm, y_train))\n",
    "print(clf.score(X_test_dm, y_test))\n"
   ]
  },
  {
   "cell_type": "markdown",
   "metadata": {
    "_uuid": "b3f9c8458df84d95893e3f7d994533c9d4a4bf40"
   },
   "source": [
    "***Adding features to the analizis in order to obtein better prediction for the animal type***"
   ]
  },
  {
   "cell_type": "code",
   "execution_count": 35,
   "metadata": {
    "_uuid": "3e50fb9d2b1a3fe5c9d70624d36b7ea28397626b",
    "collapsed": true
   },
   "outputs": [
    {
     "name": "stderr",
     "output_type": "stream",
     "text": [
      "C:\\Users\\User\\Anaconda3\\lib\\site-packages\\pandas\\core\\indexing.py:362: SettingWithCopyWarning: \n",
      "A value is trying to be set on a copy of a slice from a DataFrame.\n",
      "Try using .loc[row_indexer,col_indexer] = value instead\n",
      "\n",
      "See the caveats in the documentation: http://pandas.pydata.org/pandas-docs/stable/indexing.html#indexing-view-versus-copy\n",
      "  self.obj[key] = _infer_fill_value(value)\n",
      "C:\\Users\\User\\Anaconda3\\lib\\site-packages\\pandas\\core\\indexing.py:543: SettingWithCopyWarning: \n",
      "A value is trying to be set on a copy of a slice from a DataFrame.\n",
      "Try using .loc[row_indexer,col_indexer] = value instead\n",
      "\n",
      "See the caveats in the documentation: http://pandas.pydata.org/pandas-docs/stable/indexing.html#indexing-view-versus-copy\n",
      "  self.obj[item] = s\n"
     ]
    }
   ],
   "source": [
    "# DateTime (during the day)\n",
    "interval = pd.to_datetime(full_data['DateTime'])-pd.to_datetime('2013-01-01')\n",
    "full_data.loc[:, 'DateTime_day'] = interval /np.timedelta64(1, 'D')\n",
    "interval = ((interval/np.timedelta64(1, 'D'))%1*24)\n",
    "interval[(interval>=0) & (interval)<6] = 0 #'midnight'\n",
    "interval[(interval>=6) & (interval<12)] = 1 #'morning'\n",
    "interval[(interval>=12) & (interval<18)] = 2 #'afternoon'\n",
    "interval[(interval>=18) & (interval<22)] = 3 #'evening'\n",
    "interval[(interval>=22) & (interval<24)] =0 # 'midnight'\n",
    "full_data.loc[:, 'DateTime_intday'] = interval"
   ]
  },
  {
   "cell_type": "code",
   "execution_count": 36,
   "metadata": {
    "_uuid": "a8c84b3cc386b84a351eef8b6d5434f3a6d8283f",
    "collapsed": true
   },
   "outputs": [
    {
     "name": "stderr",
     "output_type": "stream",
     "text": [
      "C:\\Users\\User\\Anaconda3\\lib\\site-packages\\pandas\\core\\indexing.py:543: SettingWithCopyWarning: \n",
      "A value is trying to be set on a copy of a slice from a DataFrame.\n",
      "Try using .loc[row_indexer,col_indexer] = value instead\n",
      "\n",
      "See the caveats in the documentation: http://pandas.pydata.org/pandas-docs/stable/indexing.html#indexing-view-versus-copy\n",
      "  self.obj[item] = s\n",
      "C:\\Users\\User\\Anaconda3\\lib\\site-packages\\ipykernel_launcher.py:3: SettingWithCopyWarning: \n",
      "A value is trying to be set on a copy of a slice from a DataFrame.\n",
      "Try using .loc[row_indexer,col_indexer] = value instead\n",
      "\n",
      "See the caveats in the documentation: http://pandas.pydata.org/pandas-docs/stable/indexing.html#indexing-view-versus-copy\n",
      "  This is separate from the ipykernel package so we can avoid doing imports until\n",
      "C:\\Users\\User\\Anaconda3\\lib\\site-packages\\ipykernel_launcher.py:4: SettingWithCopyWarning: \n",
      "A value is trying to be set on a copy of a slice from a DataFrame.\n",
      "Try using .loc[row_indexer,col_indexer] = value instead\n",
      "\n",
      "See the caveats in the documentation: http://pandas.pydata.org/pandas-docs/stable/indexing.html#indexing-view-versus-copy\n",
      "  after removing the cwd from sys.path.\n"
     ]
    },
    {
     "data": {
      "text/html": [
       "<div>\n",
       "<style scoped>\n",
       "    .dataframe tbody tr th:only-of-type {\n",
       "        vertical-align: middle;\n",
       "    }\n",
       "\n",
       "    .dataframe tbody tr th {\n",
       "        vertical-align: top;\n",
       "    }\n",
       "\n",
       "    .dataframe thead th {\n",
       "        text-align: right;\n",
       "    }\n",
       "</style>\n",
       "<table border=\"1\" class=\"dataframe\">\n",
       "  <thead>\n",
       "    <tr style=\"text-align: right;\">\n",
       "      <th></th>\n",
       "      <th>SexuponOutcome</th>\n",
       "      <th>Sex</th>\n",
       "      <th>IsIntact</th>\n",
       "    </tr>\n",
       "  </thead>\n",
       "  <tbody>\n",
       "    <tr>\n",
       "      <th>3</th>\n",
       "      <td>Intact Male</td>\n",
       "      <td>1</td>\n",
       "      <td>0</td>\n",
       "    </tr>\n",
       "    <tr>\n",
       "      <th>4</th>\n",
       "      <td>Neutered Male</td>\n",
       "      <td>1</td>\n",
       "      <td>1</td>\n",
       "    </tr>\n",
       "    <tr>\n",
       "      <th>7</th>\n",
       "      <td>Unknown</td>\n",
       "      <td>2</td>\n",
       "      <td>2</td>\n",
       "    </tr>\n",
       "    <tr>\n",
       "      <th>9</th>\n",
       "      <td>Spayed Female</td>\n",
       "      <td>0</td>\n",
       "      <td>1</td>\n",
       "    </tr>\n",
       "    <tr>\n",
       "      <th>10</th>\n",
       "      <td>Unknown</td>\n",
       "      <td>2</td>\n",
       "      <td>2</td>\n",
       "    </tr>\n",
       "  </tbody>\n",
       "</table>\n",
       "</div>"
      ],
      "text/plain": [
       "   SexuponOutcome  Sex  IsIntact\n",
       "3     Intact Male    1         0\n",
       "4   Neutered Male    1         1\n",
       "7         Unknown    2         2\n",
       "9   Spayed Female    0         1\n",
       "10        Unknown    2         2"
      ]
     },
     "execution_count": 36,
     "metadata": {},
     "output_type": "execute_result"
    }
   ],
   "source": [
    "# SexuponOutcome - increace the feature definition\n",
    "full_data.loc[:,['SexuponOutcome']] = full_data['SexuponOutcome'].fillna(full_data['SexuponOutcome'].mode()[0])\n",
    "full_data['Sex'] = full_data['SexuponOutcome'].map({'Intact Female':0,'Spayed Female':0,'Intact Male':1,'Neutered Male':1,'Unknown':2})\n",
    "full_data['IsIntact'] = full_data['SexuponOutcome'].map({'Intact Female':0,'Intact Male':0, 'Neutered Male':1,'Spayed Female':1,'Unknown':2})\n",
    "full_data[['SexuponOutcome','Sex','IsIntact']].head()"
   ]
  },
  {
   "cell_type": "code",
   "execution_count": 37,
   "metadata": {
    "_uuid": "f4dc4a989d8361b72da4235a479bb8b233fa51e2",
    "collapsed": true
   },
   "outputs": [
    {
     "name": "stderr",
     "output_type": "stream",
     "text": [
      "C:\\Users\\User\\Anaconda3\\lib\\site-packages\\sklearn\\model_selection\\_split.py:2026: FutureWarning: From version 0.21, test_size will always complement train_size unless both are specified.\n",
      "  FutureWarning)\n"
     ]
    }
   ],
   "source": [
    "#splite the files test and train again\n",
    "\n",
    "X_test_general_1 =  full_data[full_data['OutcomeType']==''] \n",
    "X_train_general_1 = full_data[full_data['OutcomeType']!='']\n",
    "\n",
    "#create the Target for train\n",
    "X_train_1 = X_train_general_1.drop('OutcomeType', axis = 1)\n",
    "X_Target_1 = X_test_general_1.drop('OutcomeType', axis = 1)\n",
    "y_train_1 = X_train_general_1.OutcomeType\n",
    "\n",
    "\n",
    "#create file for the frist cheking\n",
    "X_train_1, X_test_1, y_train_1, y_test_1 = train_test_split(X_train_1,y_train_1,train_size=0.7, random_state=451816)\n"
   ]
  },
  {
   "cell_type": "code",
   "execution_count": 38,
   "metadata": {
    "_uuid": "49da613c525d348c689ff9e724e40cd526c95ebd",
    "collapsed": true
   },
   "outputs": [],
   "source": [
    "# Choose relevant features for start the prediction \n",
    "\n",
    "X_train_1 = X_train_1[['DateTime_intday','AnimalType',\n",
    "                       'SexuponOutcome','Sex','IsIntact',\n",
    "                      'AgeuponOutcome_InYears', 'Gender',\n",
    "                      'AgeCategory','Day_ofWeek','WeekEnd',\n",
    "                      'Holiday','Name_missing','unicolor']]\n",
    "X_test_1 = X_test_1[['DateTime_intday','AnimalType',\n",
    "                       'SexuponOutcome','Sex','IsIntact',\n",
    "                      'AgeuponOutcome_InYears', 'Gender',\n",
    "                      'AgeCategory','Day_ofWeek','WeekEnd',\n",
    "                      'Holiday','Name_missing','unicolor']]\n",
    "\n",
    "X_train_dm_1= pd.get_dummies(X_train_1)\n",
    "X_test_dm_1= pd.get_dummies(X_test_1)\n",
    "\n",
    "# X_train.head(2)\n",
    "# X_test.head(2)\n",
    "# X_train_dm.head(2)\n",
    "# y_train.head(2)"
   ]
  },
  {
   "cell_type": "code",
   "execution_count": 39,
   "metadata": {
    "_uuid": "148c558bd5c52d1fe47660ce874689869c6ef203",
    "collapsed": true
   },
   "outputs": [
    {
     "name": "stdout",
     "output_type": "stream",
     "text": [
      "Accuracy with more features 0.8061813442561907\n"
     ]
    }
   ],
   "source": [
    "#fit the model (X_train_dm,y_train )\n",
    "shelter_dt_1 = DecisionTreeClassifier(max_depth=5).fit(X_train_dm_1, y_train_1)\n",
    "# Assess the model\n",
    "cm = confusion_matrix(y_true=y_train_1,\n",
    "                      y_pred=shelter_dt_1.predict(X_train_dm_1))\n",
    "#Accuracy\n",
    "print('Accuracy with more features',accuracy_score(y_true=y_train,\n",
    "                      y_pred=shelter_dt_1.predict(X_train_dm_1)))\n"
   ]
  },
  {
   "cell_type": "code",
   "execution_count": 40,
   "metadata": {
    "_uuid": "0e530e8584716cb0600ea8936b7cc1332cb7fff9",
    "collapsed": true
   },
   "outputs": [
    {
     "name": "stdout",
     "output_type": "stream",
     "text": [
      "Accuracy with Pipeline Steps 0.8430459877117855\n"
     ]
    }
   ],
   "source": [
    "# Try to keep improving the data\n",
    "from sklearn.preprocessing import StandardScaler, MaxAbsScaler\n",
    "from sklearn.pipeline import Pipeline\n",
    "from sklearn.decomposition import PCA\n",
    "from sklearn.ensemble import RandomForestClassifier\n",
    "\n",
    "steps = [ ('scale', StandardScaler()), ('reduce_dim', PCA(2)), ('clf', RandomForestClassifier()) ]\n",
    "pipe = Pipeline(steps)\n",
    "\n",
    "pipe.fit(X_train_dm_1, y_train_1)\n",
    "train_pred = pipe.predict(X_train_dm_1)\n",
    "print('Accuracy with Pipeline Steps', accuracy_score(train_pred, y_train_1))\n"
   ]
  },
  {
   "cell_type": "code",
   "execution_count": 41,
   "metadata": {
    "_uuid": "d5ee36a671b9ed882182b4a28d5aacf40c3b0ec0",
    "collapsed": true
   },
   "outputs": [
    {
     "data": {
      "text/plain": [
       "0.7602085143353605"
      ]
     },
     "execution_count": 41,
     "metadata": {},
     "output_type": "execute_result"
    }
   ],
   "source": [
    "#Validating the model :\n",
    "\n",
    "# pipe.fit(X_train_dm_1, y_train_1)\n",
    "train_pred = pipe.predict(X_test_dm_1)\n",
    "accuracy_score(train_pred, y_test_1)\n",
    "\n"
   ]
  },
  {
   "cell_type": "code",
   "execution_count": 42,
   "metadata": {
    "_uuid": "accb47980606fc61b15988b0ed74a62b146896cf",
    "collapsed": true
   },
   "outputs": [
    {
     "name": "stdout",
     "output_type": "stream",
     "text": [
      "LR  classifier:\n",
      "         \ttrain accuracy: 0.79\n",
      "         \ttest accuracy: 0.79\n",
      "DT  classifier:\n",
      "         \ttrain accuracy: 0.85\n",
      "         \ttest accuracy: 0.77\n",
      "SVM classifier:\n",
      "         \ttrain accuracy: 0.80\n",
      "         \ttest accuracy: 0.80\n"
     ]
    }
   ],
   "source": [
    "# classifiers \n",
    "\n",
    "from sklearn.linear_model import LogisticRegression\n",
    "from sklearn.svm import SVC\n",
    "\n",
    "clf1 = LogisticRegression()\n",
    "clf2 = RandomForestClassifier()\n",
    "clf3 = SVC()\n",
    "\n",
    "classifiers = [('LR', clf1), ('DT', clf2), ('SVM', clf3)]\n",
    "\n",
    "results = y_train_1.to_frame()\n",
    "for clf_name, clf in classifiers:\n",
    "    clf.fit(X_train_dm_1, y_train_1)\n",
    "    results[clf_name] = clf.predict(X_train_dm_1)\n",
    "    print(\"{:3} classifier:\\n \\\n",
    "        \\ttrain accuracy: {:.2f}\\n \\\n",
    "        \\ttest accuracy: {:.2f}\"\\\n",
    "        .format(clf_name, \n",
    "                clf.score(X_train_dm_1, y_train_1), \n",
    "                clf.score(X_test_dm_1, y_test_1)))\n",
    "\n",
    "  "
   ]
  },
  {
   "cell_type": "code",
   "execution_count": 43,
   "metadata": {
    "_uuid": "4a46c7945459f24ef5882089fca86de5c2c1d1fa",
    "collapsed": true
   },
   "outputs": [
    {
     "name": "stdout",
     "output_type": "stream",
     "text": [
      "1 components\n",
      "mean: 0.7495836445774458\n",
      "std: 0.008699840698048678\n",
      "\n",
      "2 components\n",
      "mean: 0.7674566143164785\n",
      "std: 0.0069091081178369665\n",
      "\n",
      "3 components\n",
      "mean: 0.7590886633126661\n",
      "std: 0.009195212297965258\n",
      "\n",
      "4 components\n",
      "mean: 0.7702459351815735\n",
      "std: 0.004338308448955257\n",
      "\n"
     ]
    }
   ],
   "source": [
    "#checking for overfit\n",
    "from sklearn.model_selection import cross_val_score\n",
    "\n",
    "for n in range (1,5):\n",
    "    pipe.set_params(reduce_dim__n_components = n)\n",
    "    scores = cross_val_score(pipe,X_train_dm_1, y_train_1,cv=5)\n",
    "    print(f'{n} components')\n",
    "    print(f'mean: {scores.mean()}')\n",
    "    print(f'std: {scores.std()}\\n')"
   ]
  },
  {
   "cell_type": "markdown",
   "metadata": {
    "_uuid": "66aa0b0295044fe57bca310c962911616d054a6b"
   },
   "source": [
    "# Conclussion : \n",
    "\n",
    "RandomForestClassifier will give us the best accuracy in order to predic what will be the OutcomeType:\n",
    "    \n",
    "            train accuracy: 0.85\n",
    "         \ttest accuracy: 0.77"
   ]
  },
  {
   "cell_type": "code",
   "execution_count": 86,
   "metadata": {
    "_uuid": "b38f853fa0fb3ed25dbbfeade5080a3687ec479e",
    "collapsed": true
   },
   "outputs": [],
   "source": [
    "#upload resoults\n",
    "# X_Target_1.head(2)\n",
    "\n",
    "X_target_1_upload = X_Target_1[['DateTime_intday','AnimalType',\n",
    "                       'SexuponOutcome','Sex','IsIntact',\n",
    "                      'AgeuponOutcome_InYears', 'Gender',\n",
    "                      'AgeCategory','Day_ofWeek','WeekEnd',\n",
    "                      'Holiday','Name_missing','unicolor']]\n"
   ]
  },
  {
   "cell_type": "code",
   "execution_count": 88,
   "metadata": {
    "_uuid": "a5762aad6e308bd1fe0b516bf7524cb6b987e5b8",
    "collapsed": true
   },
   "outputs": [
    {
     "data": {
      "text/html": [
       "<div>\n",
       "<style scoped>\n",
       "    .dataframe tbody tr th:only-of-type {\n",
       "        vertical-align: middle;\n",
       "    }\n",
       "\n",
       "    .dataframe tbody tr th {\n",
       "        vertical-align: top;\n",
       "    }\n",
       "\n",
       "    .dataframe thead th {\n",
       "        text-align: right;\n",
       "    }\n",
       "</style>\n",
       "<table border=\"1\" class=\"dataframe\">\n",
       "  <thead>\n",
       "    <tr style=\"text-align: right;\">\n",
       "      <th></th>\n",
       "      <th>Adoption</th>\n",
       "      <th>Died</th>\n",
       "      <th>Euthanasia</th>\n",
       "      <th>Return_to_owner</th>\n",
       "      <th>Transfer</th>\n",
       "    </tr>\n",
       "  </thead>\n",
       "  <tbody>\n",
       "    <tr>\n",
       "      <th>13</th>\n",
       "      <td>0.457976</td>\n",
       "      <td>0.0</td>\n",
       "      <td>0.0</td>\n",
       "      <td>0.117738</td>\n",
       "      <td>0.424286</td>\n",
       "    </tr>\n",
       "    <tr>\n",
       "      <th>19</th>\n",
       "      <td>0.000000</td>\n",
       "      <td>0.0</td>\n",
       "      <td>0.0</td>\n",
       "      <td>0.025000</td>\n",
       "      <td>0.975000</td>\n",
       "    </tr>\n",
       "  </tbody>\n",
       "</table>\n",
       "</div>"
      ],
      "text/plain": [
       "    Adoption  Died  Euthanasia  Return_to_owner  Transfer\n",
       "13  0.457976   0.0         0.0         0.117738  0.424286\n",
       "19  0.000000   0.0         0.0         0.025000  0.975000"
      ]
     },
     "execution_count": 88,
     "metadata": {},
     "output_type": "execute_result"
    }
   ],
   "source": [
    "# Target prediction \n",
    "X_target_1_upload = pd.get_dummies(X_target_1_upload)\n",
    "probability = pipe.predict_proba(X_target_1_upload)\n",
    "\n",
    "#file preparation\n",
    "columns = pipe.classes_\n",
    "results = pd.DataFrame(data = X_target_1_upload, columns = columns )\n",
    "#each result has their corresponding probabilistic value\n",
    "results[\"Adoption\"] = probability[:,0]\n",
    "results[\"Died\"] = probability[:,1]\n",
    "results[\"Euthanasia\"] = probability[:,2]\n",
    "results[\"Return_to_owner\"] = probability[:,3]\n",
    "results[\"Transfer\"] = probability[:,4]\n",
    "results.head(2)"
   ]
  },
  {
   "cell_type": "code",
   "execution_count": 96,
   "metadata": {
    "_uuid": "2ade4e9b58939b8f478693c8b85962daca8a9134",
    "collapsed": true
   },
   "outputs": [],
   "source": [
    "results.to_csv(\"submition.csv\", index= True, index_label='ID')"
   ]
  },
  {
   "cell_type": "code",
   "execution_count": 97,
   "metadata": {
    "_uuid": "9bdbdb48c5e7006d2730eb7eefed8b813e0bb9a0",
    "collapsed": true
   },
   "outputs": [
    {
     "data": {
      "text/html": [
       "<div>\n",
       "<style scoped>\n",
       "    .dataframe tbody tr th:only-of-type {\n",
       "        vertical-align: middle;\n",
       "    }\n",
       "\n",
       "    .dataframe tbody tr th {\n",
       "        vertical-align: top;\n",
       "    }\n",
       "\n",
       "    .dataframe thead th {\n",
       "        text-align: right;\n",
       "    }\n",
       "</style>\n",
       "<table border=\"1\" class=\"dataframe\">\n",
       "  <thead>\n",
       "    <tr style=\"text-align: right;\">\n",
       "      <th></th>\n",
       "      <th>ID</th>\n",
       "      <th>Adoption</th>\n",
       "      <th>Died</th>\n",
       "      <th>Euthanasia</th>\n",
       "      <th>Return_to_owner</th>\n",
       "      <th>Transfer</th>\n",
       "    </tr>\n",
       "  </thead>\n",
       "  <tbody>\n",
       "    <tr>\n",
       "      <th>0</th>\n",
       "      <td>13</td>\n",
       "      <td>0.457976</td>\n",
       "      <td>0.000000</td>\n",
       "      <td>0.000000</td>\n",
       "      <td>0.117738</td>\n",
       "      <td>0.424286</td>\n",
       "    </tr>\n",
       "    <tr>\n",
       "      <th>1</th>\n",
       "      <td>19</td>\n",
       "      <td>0.000000</td>\n",
       "      <td>0.000000</td>\n",
       "      <td>0.000000</td>\n",
       "      <td>0.025000</td>\n",
       "      <td>0.975000</td>\n",
       "    </tr>\n",
       "    <tr>\n",
       "      <th>2</th>\n",
       "      <td>21</td>\n",
       "      <td>0.000000</td>\n",
       "      <td>0.000000</td>\n",
       "      <td>0.234286</td>\n",
       "      <td>0.000000</td>\n",
       "      <td>0.765714</td>\n",
       "    </tr>\n",
       "    <tr>\n",
       "      <th>3</th>\n",
       "      <td>23</td>\n",
       "      <td>0.000000</td>\n",
       "      <td>0.000000</td>\n",
       "      <td>0.000000</td>\n",
       "      <td>0.000000</td>\n",
       "      <td>1.000000</td>\n",
       "    </tr>\n",
       "    <tr>\n",
       "      <th>4</th>\n",
       "      <td>25</td>\n",
       "      <td>0.212778</td>\n",
       "      <td>0.000000</td>\n",
       "      <td>0.084650</td>\n",
       "      <td>0.000000</td>\n",
       "      <td>0.702572</td>\n",
       "    </tr>\n",
       "    <tr>\n",
       "      <th>5</th>\n",
       "      <td>27</td>\n",
       "      <td>0.000000</td>\n",
       "      <td>0.000000</td>\n",
       "      <td>0.010526</td>\n",
       "      <td>0.000000</td>\n",
       "      <td>0.989474</td>\n",
       "    </tr>\n",
       "    <tr>\n",
       "      <th>6</th>\n",
       "      <td>30</td>\n",
       "      <td>0.000000</td>\n",
       "      <td>0.000000</td>\n",
       "      <td>0.000000</td>\n",
       "      <td>0.000000</td>\n",
       "      <td>1.000000</td>\n",
       "    </tr>\n",
       "    <tr>\n",
       "      <th>7</th>\n",
       "      <td>32</td>\n",
       "      <td>0.000000</td>\n",
       "      <td>0.109329</td>\n",
       "      <td>0.000000</td>\n",
       "      <td>0.000000</td>\n",
       "      <td>0.890671</td>\n",
       "    </tr>\n",
       "    <tr>\n",
       "      <th>8</th>\n",
       "      <td>36</td>\n",
       "      <td>0.010000</td>\n",
       "      <td>0.000000</td>\n",
       "      <td>0.010000</td>\n",
       "      <td>0.063333</td>\n",
       "      <td>0.916667</td>\n",
       "    </tr>\n",
       "    <tr>\n",
       "      <th>9</th>\n",
       "      <td>39</td>\n",
       "      <td>0.568200</td>\n",
       "      <td>0.000000</td>\n",
       "      <td>0.000000</td>\n",
       "      <td>0.000000</td>\n",
       "      <td>0.431800</td>\n",
       "    </tr>\n",
       "    <tr>\n",
       "      <th>10</th>\n",
       "      <td>41</td>\n",
       "      <td>0.000000</td>\n",
       "      <td>0.000000</td>\n",
       "      <td>0.000000</td>\n",
       "      <td>0.000000</td>\n",
       "      <td>1.000000</td>\n",
       "    </tr>\n",
       "    <tr>\n",
       "      <th>11</th>\n",
       "      <td>43</td>\n",
       "      <td>0.000000</td>\n",
       "      <td>0.021111</td>\n",
       "      <td>0.000000</td>\n",
       "      <td>0.048785</td>\n",
       "      <td>0.930103</td>\n",
       "    </tr>\n",
       "    <tr>\n",
       "      <th>12</th>\n",
       "      <td>44</td>\n",
       "      <td>0.000000</td>\n",
       "      <td>0.109329</td>\n",
       "      <td>0.000000</td>\n",
       "      <td>0.000000</td>\n",
       "      <td>0.890671</td>\n",
       "    </tr>\n",
       "    <tr>\n",
       "      <th>13</th>\n",
       "      <td>45</td>\n",
       "      <td>0.777197</td>\n",
       "      <td>0.000000</td>\n",
       "      <td>0.000000</td>\n",
       "      <td>0.000000</td>\n",
       "      <td>0.222803</td>\n",
       "    </tr>\n",
       "    <tr>\n",
       "      <th>14</th>\n",
       "      <td>54</td>\n",
       "      <td>0.000000</td>\n",
       "      <td>0.000000</td>\n",
       "      <td>0.100000</td>\n",
       "      <td>0.000000</td>\n",
       "      <td>0.900000</td>\n",
       "    </tr>\n",
       "    <tr>\n",
       "      <th>15</th>\n",
       "      <td>57</td>\n",
       "      <td>0.000000</td>\n",
       "      <td>0.141340</td>\n",
       "      <td>0.035466</td>\n",
       "      <td>0.000000</td>\n",
       "      <td>0.823195</td>\n",
       "    </tr>\n",
       "    <tr>\n",
       "      <th>16</th>\n",
       "      <td>58</td>\n",
       "      <td>0.000000</td>\n",
       "      <td>0.000000</td>\n",
       "      <td>0.121762</td>\n",
       "      <td>0.000000</td>\n",
       "      <td>0.878238</td>\n",
       "    </tr>\n",
       "    <tr>\n",
       "      <th>17</th>\n",
       "      <td>60</td>\n",
       "      <td>0.689077</td>\n",
       "      <td>0.000000</td>\n",
       "      <td>0.000000</td>\n",
       "      <td>0.000000</td>\n",
       "      <td>0.310923</td>\n",
       "    </tr>\n",
       "    <tr>\n",
       "      <th>18</th>\n",
       "      <td>63</td>\n",
       "      <td>0.000000</td>\n",
       "      <td>0.000000</td>\n",
       "      <td>0.000000</td>\n",
       "      <td>0.000000</td>\n",
       "      <td>1.000000</td>\n",
       "    </tr>\n",
       "    <tr>\n",
       "      <th>19</th>\n",
       "      <td>64</td>\n",
       "      <td>0.000000</td>\n",
       "      <td>0.000000</td>\n",
       "      <td>0.338333</td>\n",
       "      <td>0.000000</td>\n",
       "      <td>0.661667</td>\n",
       "    </tr>\n",
       "    <tr>\n",
       "      <th>20</th>\n",
       "      <td>69</td>\n",
       "      <td>0.000000</td>\n",
       "      <td>0.000000</td>\n",
       "      <td>0.146945</td>\n",
       "      <td>0.000000</td>\n",
       "      <td>0.853055</td>\n",
       "    </tr>\n",
       "    <tr>\n",
       "      <th>21</th>\n",
       "      <td>70</td>\n",
       "      <td>0.000000</td>\n",
       "      <td>0.000000</td>\n",
       "      <td>0.000000</td>\n",
       "      <td>0.000000</td>\n",
       "      <td>1.000000</td>\n",
       "    </tr>\n",
       "    <tr>\n",
       "      <th>22</th>\n",
       "      <td>72</td>\n",
       "      <td>0.000000</td>\n",
       "      <td>0.500000</td>\n",
       "      <td>0.000000</td>\n",
       "      <td>0.000000</td>\n",
       "      <td>0.500000</td>\n",
       "    </tr>\n",
       "    <tr>\n",
       "      <th>23</th>\n",
       "      <td>74</td>\n",
       "      <td>0.000000</td>\n",
       "      <td>0.000000</td>\n",
       "      <td>0.000000</td>\n",
       "      <td>0.000000</td>\n",
       "      <td>1.000000</td>\n",
       "    </tr>\n",
       "    <tr>\n",
       "      <th>24</th>\n",
       "      <td>77</td>\n",
       "      <td>0.014286</td>\n",
       "      <td>0.000000</td>\n",
       "      <td>0.042857</td>\n",
       "      <td>0.000000</td>\n",
       "      <td>0.942857</td>\n",
       "    </tr>\n",
       "    <tr>\n",
       "      <th>25</th>\n",
       "      <td>80</td>\n",
       "      <td>0.000000</td>\n",
       "      <td>0.000000</td>\n",
       "      <td>0.239167</td>\n",
       "      <td>0.000000</td>\n",
       "      <td>0.760833</td>\n",
       "    </tr>\n",
       "    <tr>\n",
       "      <th>26</th>\n",
       "      <td>81</td>\n",
       "      <td>0.000000</td>\n",
       "      <td>0.500000</td>\n",
       "      <td>0.000000</td>\n",
       "      <td>0.000000</td>\n",
       "      <td>0.500000</td>\n",
       "    </tr>\n",
       "    <tr>\n",
       "      <th>27</th>\n",
       "      <td>83</td>\n",
       "      <td>0.000000</td>\n",
       "      <td>0.000000</td>\n",
       "      <td>0.086583</td>\n",
       "      <td>0.000000</td>\n",
       "      <td>0.913417</td>\n",
       "    </tr>\n",
       "    <tr>\n",
       "      <th>28</th>\n",
       "      <td>85</td>\n",
       "      <td>0.000000</td>\n",
       "      <td>0.050037</td>\n",
       "      <td>0.000000</td>\n",
       "      <td>0.000000</td>\n",
       "      <td>0.949963</td>\n",
       "    </tr>\n",
       "    <tr>\n",
       "      <th>29</th>\n",
       "      <td>88</td>\n",
       "      <td>0.000000</td>\n",
       "      <td>0.000000</td>\n",
       "      <td>0.000000</td>\n",
       "      <td>0.068801</td>\n",
       "      <td>0.931199</td>\n",
       "    </tr>\n",
       "    <tr>\n",
       "      <th>...</th>\n",
       "      <td>...</td>\n",
       "      <td>...</td>\n",
       "      <td>...</td>\n",
       "      <td>...</td>\n",
       "      <td>...</td>\n",
       "      <td>...</td>\n",
       "    </tr>\n",
       "    <tr>\n",
       "      <th>3189</th>\n",
       "      <td>11354</td>\n",
       "      <td>0.451854</td>\n",
       "      <td>0.000000</td>\n",
       "      <td>0.000000</td>\n",
       "      <td>0.000000</td>\n",
       "      <td>0.548146</td>\n",
       "    </tr>\n",
       "    <tr>\n",
       "      <th>3190</th>\n",
       "      <td>11360</td>\n",
       "      <td>0.000000</td>\n",
       "      <td>0.000000</td>\n",
       "      <td>0.000000</td>\n",
       "      <td>0.000000</td>\n",
       "      <td>1.000000</td>\n",
       "    </tr>\n",
       "    <tr>\n",
       "      <th>3191</th>\n",
       "      <td>11367</td>\n",
       "      <td>0.000000</td>\n",
       "      <td>0.000000</td>\n",
       "      <td>0.000000</td>\n",
       "      <td>0.000000</td>\n",
       "      <td>1.000000</td>\n",
       "    </tr>\n",
       "    <tr>\n",
       "      <th>3192</th>\n",
       "      <td>11371</td>\n",
       "      <td>1.000000</td>\n",
       "      <td>0.000000</td>\n",
       "      <td>0.000000</td>\n",
       "      <td>0.000000</td>\n",
       "      <td>0.000000</td>\n",
       "    </tr>\n",
       "    <tr>\n",
       "      <th>3193</th>\n",
       "      <td>11376</td>\n",
       "      <td>0.000000</td>\n",
       "      <td>0.000000</td>\n",
       "      <td>0.143032</td>\n",
       "      <td>0.000000</td>\n",
       "      <td>0.856968</td>\n",
       "    </tr>\n",
       "    <tr>\n",
       "      <th>3194</th>\n",
       "      <td>11377</td>\n",
       "      <td>0.000000</td>\n",
       "      <td>0.000000</td>\n",
       "      <td>0.465899</td>\n",
       "      <td>0.000000</td>\n",
       "      <td>0.534101</td>\n",
       "    </tr>\n",
       "    <tr>\n",
       "      <th>3195</th>\n",
       "      <td>11379</td>\n",
       "      <td>0.233571</td>\n",
       "      <td>0.000000</td>\n",
       "      <td>0.274762</td>\n",
       "      <td>0.000000</td>\n",
       "      <td>0.491667</td>\n",
       "    </tr>\n",
       "    <tr>\n",
       "      <th>3196</th>\n",
       "      <td>11380</td>\n",
       "      <td>0.000000</td>\n",
       "      <td>0.300000</td>\n",
       "      <td>0.600000</td>\n",
       "      <td>0.000000</td>\n",
       "      <td>0.100000</td>\n",
       "    </tr>\n",
       "    <tr>\n",
       "      <th>3197</th>\n",
       "      <td>11386</td>\n",
       "      <td>0.946240</td>\n",
       "      <td>0.000000</td>\n",
       "      <td>0.000000</td>\n",
       "      <td>0.000000</td>\n",
       "      <td>0.053760</td>\n",
       "    </tr>\n",
       "    <tr>\n",
       "      <th>3198</th>\n",
       "      <td>11392</td>\n",
       "      <td>0.811484</td>\n",
       "      <td>0.000000</td>\n",
       "      <td>0.000000</td>\n",
       "      <td>0.000000</td>\n",
       "      <td>0.188516</td>\n",
       "    </tr>\n",
       "    <tr>\n",
       "      <th>3199</th>\n",
       "      <td>11395</td>\n",
       "      <td>0.000000</td>\n",
       "      <td>0.050023</td>\n",
       "      <td>0.000000</td>\n",
       "      <td>0.000000</td>\n",
       "      <td>0.949977</td>\n",
       "    </tr>\n",
       "    <tr>\n",
       "      <th>3200</th>\n",
       "      <td>11396</td>\n",
       "      <td>0.000000</td>\n",
       "      <td>0.000000</td>\n",
       "      <td>0.116667</td>\n",
       "      <td>0.000000</td>\n",
       "      <td>0.883333</td>\n",
       "    </tr>\n",
       "    <tr>\n",
       "      <th>3201</th>\n",
       "      <td>11403</td>\n",
       "      <td>0.000000</td>\n",
       "      <td>0.000000</td>\n",
       "      <td>0.280833</td>\n",
       "      <td>0.000000</td>\n",
       "      <td>0.719167</td>\n",
       "    </tr>\n",
       "    <tr>\n",
       "      <th>3202</th>\n",
       "      <td>11405</td>\n",
       "      <td>0.037681</td>\n",
       "      <td>0.131137</td>\n",
       "      <td>0.290713</td>\n",
       "      <td>0.000000</td>\n",
       "      <td>0.540468</td>\n",
       "    </tr>\n",
       "    <tr>\n",
       "      <th>3203</th>\n",
       "      <td>11406</td>\n",
       "      <td>0.000000</td>\n",
       "      <td>0.000000</td>\n",
       "      <td>0.045457</td>\n",
       "      <td>0.000000</td>\n",
       "      <td>0.954543</td>\n",
       "    </tr>\n",
       "    <tr>\n",
       "      <th>3204</th>\n",
       "      <td>11416</td>\n",
       "      <td>0.000000</td>\n",
       "      <td>0.000000</td>\n",
       "      <td>0.000000</td>\n",
       "      <td>0.000000</td>\n",
       "      <td>1.000000</td>\n",
       "    </tr>\n",
       "    <tr>\n",
       "      <th>3205</th>\n",
       "      <td>11422</td>\n",
       "      <td>0.000000</td>\n",
       "      <td>0.000000</td>\n",
       "      <td>0.000000</td>\n",
       "      <td>0.000000</td>\n",
       "      <td>1.000000</td>\n",
       "    </tr>\n",
       "    <tr>\n",
       "      <th>3206</th>\n",
       "      <td>11430</td>\n",
       "      <td>1.000000</td>\n",
       "      <td>0.000000</td>\n",
       "      <td>0.000000</td>\n",
       "      <td>0.000000</td>\n",
       "      <td>0.000000</td>\n",
       "    </tr>\n",
       "    <tr>\n",
       "      <th>3207</th>\n",
       "      <td>11431</td>\n",
       "      <td>0.000000</td>\n",
       "      <td>0.000000</td>\n",
       "      <td>0.241997</td>\n",
       "      <td>0.000000</td>\n",
       "      <td>0.758003</td>\n",
       "    </tr>\n",
       "    <tr>\n",
       "      <th>3208</th>\n",
       "      <td>11435</td>\n",
       "      <td>0.000000</td>\n",
       "      <td>0.000000</td>\n",
       "      <td>0.000000</td>\n",
       "      <td>0.000000</td>\n",
       "      <td>1.000000</td>\n",
       "    </tr>\n",
       "    <tr>\n",
       "      <th>3209</th>\n",
       "      <td>11436</td>\n",
       "      <td>0.853571</td>\n",
       "      <td>0.000000</td>\n",
       "      <td>0.000000</td>\n",
       "      <td>0.000000</td>\n",
       "      <td>0.146429</td>\n",
       "    </tr>\n",
       "    <tr>\n",
       "      <th>3210</th>\n",
       "      <td>11438</td>\n",
       "      <td>1.000000</td>\n",
       "      <td>0.000000</td>\n",
       "      <td>0.000000</td>\n",
       "      <td>0.000000</td>\n",
       "      <td>0.000000</td>\n",
       "    </tr>\n",
       "    <tr>\n",
       "      <th>3211</th>\n",
       "      <td>11440</td>\n",
       "      <td>0.000000</td>\n",
       "      <td>0.141340</td>\n",
       "      <td>0.035466</td>\n",
       "      <td>0.000000</td>\n",
       "      <td>0.823195</td>\n",
       "    </tr>\n",
       "    <tr>\n",
       "      <th>3212</th>\n",
       "      <td>11444</td>\n",
       "      <td>0.000000</td>\n",
       "      <td>0.053041</td>\n",
       "      <td>0.046025</td>\n",
       "      <td>0.000000</td>\n",
       "      <td>0.900934</td>\n",
       "    </tr>\n",
       "    <tr>\n",
       "      <th>3213</th>\n",
       "      <td>11445</td>\n",
       "      <td>0.000000</td>\n",
       "      <td>0.000000</td>\n",
       "      <td>0.072064</td>\n",
       "      <td>0.000000</td>\n",
       "      <td>0.927936</td>\n",
       "    </tr>\n",
       "    <tr>\n",
       "      <th>3214</th>\n",
       "      <td>11446</td>\n",
       "      <td>0.752839</td>\n",
       "      <td>0.000000</td>\n",
       "      <td>0.000000</td>\n",
       "      <td>0.028810</td>\n",
       "      <td>0.218352</td>\n",
       "    </tr>\n",
       "    <tr>\n",
       "      <th>3215</th>\n",
       "      <td>11448</td>\n",
       "      <td>0.946240</td>\n",
       "      <td>0.000000</td>\n",
       "      <td>0.000000</td>\n",
       "      <td>0.000000</td>\n",
       "      <td>0.053760</td>\n",
       "    </tr>\n",
       "    <tr>\n",
       "      <th>3216</th>\n",
       "      <td>11451</td>\n",
       "      <td>0.911700</td>\n",
       "      <td>0.000000</td>\n",
       "      <td>0.000000</td>\n",
       "      <td>0.000000</td>\n",
       "      <td>0.088300</td>\n",
       "    </tr>\n",
       "    <tr>\n",
       "      <th>3217</th>\n",
       "      <td>11452</td>\n",
       "      <td>0.000000</td>\n",
       "      <td>0.000000</td>\n",
       "      <td>0.000000</td>\n",
       "      <td>0.000000</td>\n",
       "      <td>1.000000</td>\n",
       "    </tr>\n",
       "    <tr>\n",
       "      <th>3218</th>\n",
       "      <td>11453</td>\n",
       "      <td>0.000000</td>\n",
       "      <td>0.000000</td>\n",
       "      <td>0.000000</td>\n",
       "      <td>0.068801</td>\n",
       "      <td>0.931199</td>\n",
       "    </tr>\n",
       "  </tbody>\n",
       "</table>\n",
       "<p>3219 rows × 6 columns</p>\n",
       "</div>"
      ],
      "text/plain": [
       "         ID  Adoption      Died  Euthanasia  Return_to_owner  Transfer\n",
       "0        13  0.457976  0.000000    0.000000         0.117738  0.424286\n",
       "1        19  0.000000  0.000000    0.000000         0.025000  0.975000\n",
       "2        21  0.000000  0.000000    0.234286         0.000000  0.765714\n",
       "3        23  0.000000  0.000000    0.000000         0.000000  1.000000\n",
       "4        25  0.212778  0.000000    0.084650         0.000000  0.702572\n",
       "5        27  0.000000  0.000000    0.010526         0.000000  0.989474\n",
       "6        30  0.000000  0.000000    0.000000         0.000000  1.000000\n",
       "7        32  0.000000  0.109329    0.000000         0.000000  0.890671\n",
       "8        36  0.010000  0.000000    0.010000         0.063333  0.916667\n",
       "9        39  0.568200  0.000000    0.000000         0.000000  0.431800\n",
       "10       41  0.000000  0.000000    0.000000         0.000000  1.000000\n",
       "11       43  0.000000  0.021111    0.000000         0.048785  0.930103\n",
       "12       44  0.000000  0.109329    0.000000         0.000000  0.890671\n",
       "13       45  0.777197  0.000000    0.000000         0.000000  0.222803\n",
       "14       54  0.000000  0.000000    0.100000         0.000000  0.900000\n",
       "15       57  0.000000  0.141340    0.035466         0.000000  0.823195\n",
       "16       58  0.000000  0.000000    0.121762         0.000000  0.878238\n",
       "17       60  0.689077  0.000000    0.000000         0.000000  0.310923\n",
       "18       63  0.000000  0.000000    0.000000         0.000000  1.000000\n",
       "19       64  0.000000  0.000000    0.338333         0.000000  0.661667\n",
       "20       69  0.000000  0.000000    0.146945         0.000000  0.853055\n",
       "21       70  0.000000  0.000000    0.000000         0.000000  1.000000\n",
       "22       72  0.000000  0.500000    0.000000         0.000000  0.500000\n",
       "23       74  0.000000  0.000000    0.000000         0.000000  1.000000\n",
       "24       77  0.014286  0.000000    0.042857         0.000000  0.942857\n",
       "25       80  0.000000  0.000000    0.239167         0.000000  0.760833\n",
       "26       81  0.000000  0.500000    0.000000         0.000000  0.500000\n",
       "27       83  0.000000  0.000000    0.086583         0.000000  0.913417\n",
       "28       85  0.000000  0.050037    0.000000         0.000000  0.949963\n",
       "29       88  0.000000  0.000000    0.000000         0.068801  0.931199\n",
       "...     ...       ...       ...         ...              ...       ...\n",
       "3189  11354  0.451854  0.000000    0.000000         0.000000  0.548146\n",
       "3190  11360  0.000000  0.000000    0.000000         0.000000  1.000000\n",
       "3191  11367  0.000000  0.000000    0.000000         0.000000  1.000000\n",
       "3192  11371  1.000000  0.000000    0.000000         0.000000  0.000000\n",
       "3193  11376  0.000000  0.000000    0.143032         0.000000  0.856968\n",
       "3194  11377  0.000000  0.000000    0.465899         0.000000  0.534101\n",
       "3195  11379  0.233571  0.000000    0.274762         0.000000  0.491667\n",
       "3196  11380  0.000000  0.300000    0.600000         0.000000  0.100000\n",
       "3197  11386  0.946240  0.000000    0.000000         0.000000  0.053760\n",
       "3198  11392  0.811484  0.000000    0.000000         0.000000  0.188516\n",
       "3199  11395  0.000000  0.050023    0.000000         0.000000  0.949977\n",
       "3200  11396  0.000000  0.000000    0.116667         0.000000  0.883333\n",
       "3201  11403  0.000000  0.000000    0.280833         0.000000  0.719167\n",
       "3202  11405  0.037681  0.131137    0.290713         0.000000  0.540468\n",
       "3203  11406  0.000000  0.000000    0.045457         0.000000  0.954543\n",
       "3204  11416  0.000000  0.000000    0.000000         0.000000  1.000000\n",
       "3205  11422  0.000000  0.000000    0.000000         0.000000  1.000000\n",
       "3206  11430  1.000000  0.000000    0.000000         0.000000  0.000000\n",
       "3207  11431  0.000000  0.000000    0.241997         0.000000  0.758003\n",
       "3208  11435  0.000000  0.000000    0.000000         0.000000  1.000000\n",
       "3209  11436  0.853571  0.000000    0.000000         0.000000  0.146429\n",
       "3210  11438  1.000000  0.000000    0.000000         0.000000  0.000000\n",
       "3211  11440  0.000000  0.141340    0.035466         0.000000  0.823195\n",
       "3212  11444  0.000000  0.053041    0.046025         0.000000  0.900934\n",
       "3213  11445  0.000000  0.000000    0.072064         0.000000  0.927936\n",
       "3214  11446  0.752839  0.000000    0.000000         0.028810  0.218352\n",
       "3215  11448  0.946240  0.000000    0.000000         0.000000  0.053760\n",
       "3216  11451  0.911700  0.000000    0.000000         0.000000  0.088300\n",
       "3217  11452  0.000000  0.000000    0.000000         0.000000  1.000000\n",
       "3218  11453  0.000000  0.000000    0.000000         0.068801  0.931199\n",
       "\n",
       "[3219 rows x 6 columns]"
      ]
     },
     "execution_count": 97,
     "metadata": {},
     "output_type": "execute_result"
    }
   ],
   "source": [
    "pd.read_csv(\"submition.csv\")"
   ]
  },
  {
   "cell_type": "code",
   "execution_count": null,
   "metadata": {},
   "outputs": [],
   "source": []
  }
 ],
 "metadata": {
  "kernelspec": {
   "display_name": "Python 3",
   "language": "python",
   "name": "python3"
  },
  "language_info": {
   "codemirror_mode": {
    "name": "ipython",
    "version": 3
   },
   "file_extension": ".py",
   "mimetype": "text/x-python",
   "name": "python",
   "nbconvert_exporter": "python",
   "pygments_lexer": "ipython3",
   "version": "3.6.4"
  }
 },
 "nbformat": 4,
 "nbformat_minor": 2
}
